{
 "cells": [
  {
   "cell_type": "code",
   "execution_count": 1,
   "metadata": {
    "ExecuteTime": {
     "end_time": "2020-07-30T18:09:37.268096Z",
     "start_time": "2020-07-30T18:09:35.654620Z"
    }
   },
   "outputs": [],
   "source": [
    "import numpy as np\n",
    "import pandas as pd\n",
    "from scipy import sparse"
   ]
  },
  {
   "cell_type": "markdown",
   "metadata": {},
   "source": [
    "# Load Data"
   ]
  },
  {
   "cell_type": "code",
   "execution_count": 2,
   "metadata": {
    "ExecuteTime": {
     "end_time": "2020-07-30T18:10:00.314392Z",
     "start_time": "2020-07-30T18:09:37.271844Z"
    }
   },
   "outputs": [
    {
     "name": "stdout",
     "output_type": "stream",
     "text": [
      "<class 'pandas.core.frame.DataFrame'>\n",
      "RangeIndex: 1364686 entries, 0 to 1364685\n",
      "Data columns (total 24 columns):\n",
      " #   Column                Non-Null Count    Dtype         \n",
      "---  ------                --------------    -----         \n",
      " 0   pd_id                 1364686 non-null  object        \n",
      " 1   brand                 1364686 non-null  object        \n",
      " 2   Name                  1364686 non-null  object        \n",
      " 3   Description           1364686 non-null  object        \n",
      " 4   AverageOverallRating  1364686 non-null  float64       \n",
      " 5   love_count            1364686 non-null  float64       \n",
      " 6   reviews_count         1364686 non-null  float64       \n",
      " 7   Price                 1364686 non-null  float64       \n",
      " 8   category_1            1364686 non-null  object        \n",
      " 9   category_2            1006831 non-null  object        \n",
      " 10  category_3            957356 non-null   object        \n",
      " 11  FirstSubmissionTime   1364686 non-null  datetime64[ns]\n",
      " 12  LastSubmissionTime    1364686 non-null  datetime64[ns]\n",
      " 13  AuthorId              1364686 non-null  object        \n",
      " 14  Rating                1364686 non-null  int64         \n",
      " 15  Title                 1364686 non-null  object        \n",
      " 16  ReviewText            1364686 non-null  object        \n",
      " 17  Helpfulness           1364686 non-null  float64       \n",
      " 18  SubmissionTime        1364686 non-null  datetime64[ns]\n",
      " 19  IsRecommended         1364686 non-null  bool          \n",
      " 20  eyeColor              897237 non-null   object        \n",
      " 21  hairColor             665796 non-null   object        \n",
      " 22  skinTone              960812 non-null   object        \n",
      " 23  skinType              816669 non-null   object        \n",
      "dtypes: bool(1), datetime64[ns](3), float64(5), int64(1), object(14)\n",
      "memory usage: 240.8+ MB\n"
     ]
    }
   ],
   "source": [
    "pd.set_option('display.max_columns', None)\n",
    "df = pd.read_csv('../data/cleaned_review_data.csv', \n",
    "                 parse_dates=['SubmissionTime', 'FirstSubmissionTime', 'LastSubmissionTime'], \n",
    "                 low_memory=False)\n",
    "df.info()"
   ]
  },
  {
   "cell_type": "markdown",
   "metadata": {},
   "source": [
    "# CF without packages"
   ]
  },
  {
   "cell_type": "markdown",
   "metadata": {},
   "source": [
    "## Data Cleaning & Encoding"
   ]
  },
  {
   "cell_type": "code",
   "execution_count": 3,
   "metadata": {
    "ExecuteTime": {
     "end_time": "2020-07-30T18:10:00.490725Z",
     "start_time": "2020-07-30T18:10:00.325077Z"
    }
   },
   "outputs": [
    {
     "name": "stdout",
     "output_type": "stream",
     "text": [
      "<class 'pandas.core.frame.DataFrame'>\n",
      "RangeIndex: 1364686 entries, 0 to 1364685\n",
      "Data columns (total 3 columns):\n",
      " #   Column    Non-Null Count    Dtype \n",
      "---  ------    --------------    ----- \n",
      " 0   pd_id     1364686 non-null  object\n",
      " 1   AuthorId  1364686 non-null  object\n",
      " 2   Rating    1364686 non-null  int64 \n",
      "dtypes: int64(1), object(2)\n",
      "memory usage: 31.2+ MB\n"
     ]
    }
   ],
   "source": [
    "cf_df = df[['pd_id', 'AuthorId', 'Rating']]\n",
    "cf_df.info()"
   ]
  },
  {
   "cell_type": "code",
   "execution_count": 4,
   "metadata": {
    "ExecuteTime": {
     "end_time": "2020-07-30T18:10:00.501925Z",
     "start_time": "2020-07-30T18:10:00.494787Z"
    }
   },
   "outputs": [],
   "source": [
    "def encode_data(df):\n",
    "    \"\"\"Encodes rating data with continous user and movie.\"\"\"\n",
    "    \n",
    "    uniq_user = df['AuthorId'].unique()\n",
    "    uniq_pd = df['pd_id'].unique()\n",
    "    \n",
    "    name2idx_user = {o:i for i,o in enumerate(uniq_user)}\n",
    "    name2idx_pd = {o:i for i,o in enumerate(uniq_pd)}\n",
    "    \n",
    "    df_c = df.copy()\n",
    "    df_c['AuthorId'] = np.array([name2idx_user[x] for x in df['AuthorId']])\n",
    "    df_c['pd_id'] = np.array([name2idx_pd[x] for x in df['pd_id']]) \n",
    "\n",
    "    return df_c, len(uniq_user), len(uniq_pd)"
   ]
  },
  {
   "cell_type": "markdown",
   "metadata": {},
   "source": [
    "## Encoding Y as a sparse matrix\n",
    "This code helps you encode a $Y$ as a sparse matrix from the dataframe. "
   ]
  },
  {
   "cell_type": "code",
   "execution_count": 6,
   "metadata": {
    "ExecuteTime": {
     "end_time": "2020-07-30T18:10:01.906703Z",
     "start_time": "2020-07-30T18:10:01.892404Z"
    }
   },
   "outputs": [],
   "source": [
    "def df2matrix(df, nrows, ncols, column_name='Rating'):\n",
    "    \"\"\"Returns a sparse matrix constructed from a dataframe.\"\"\"\n",
    "    \n",
    "    rating_values = df[column_name].values\n",
    "    ind_pd = df['pd_id'].values\n",
    "    ind_user = df['AuthorId'].values\n",
    "    return sparse.csc_matrix((rating_values,(ind_user, ind_pd)), shape=(nrows, ncols))"
   ]
  },
  {
   "cell_type": "markdown",
   "metadata": {},
   "source": [
    "## Predicting Ratings"
   ]
  },
  {
   "cell_type": "code",
   "execution_count": 7,
   "metadata": {
    "ExecuteTime": {
     "end_time": "2020-07-30T18:10:01.928555Z",
     "start_time": "2020-07-30T18:10:01.921521Z"
    }
   },
   "outputs": [],
   "source": [
    "def create_embedings(n, K):\n",
    "    \"\"\" Create a numpy random matrix of shape n, K\n",
    "    \n",
    "    The random matrix should be initialized with uniform values in (0, 6/K)\n",
    "    Arguments:\n",
    "    \n",
    "    Inputs:\n",
    "    n: number of items/users\n",
    "    K: number of factors in the embeding \n",
    "    \n",
    "    Returns:\n",
    "    emb: numpy array of shape (n, K)\n",
    "    \"\"\"\n",
    "    \n",
    "    np.random.seed(3)\n",
    "    emb = 6*np.random.random((n, K)) / K\n",
    "    return emb"
   ]
  },
  {
   "cell_type": "code",
   "execution_count": 8,
   "metadata": {
    "ExecuteTime": {
     "end_time": "2020-07-30T18:10:01.939681Z",
     "start_time": "2020-07-30T18:10:01.933248Z"
    }
   },
   "outputs": [],
   "source": [
    "def predict(df, emb_user, emb_pd):\n",
    "    \"\"\" This function computes df[\"prediction\"] without doing (U*V^T).\n",
    "    Compute df[\"prediction\"] by using elementwise multiplication of the corresponding embeddings and then \n",
    "    sum to get the prediction u_i*v_j. This avoids creating the dense matrix U*V^T.\n",
    "    \"\"\"\n",
    "    df['prediction'] = np.sum(np.multiply(emb_user[df['AuthorId']], emb_pd[df['pd_id']]), axis=1)\n",
    "    return df"
   ]
  },
  {
   "cell_type": "markdown",
   "metadata": {},
   "source": [
    "## Calculating the cost function"
   ]
  },
  {
   "cell_type": "code",
   "execution_count": 15,
   "metadata": {
    "ExecuteTime": {
     "end_time": "2020-07-30T18:12:05.373074Z",
     "start_time": "2020-07-30T18:12:05.367880Z"
    }
   },
   "outputs": [],
   "source": [
    "# Use vectorized computation for this function. No loops!\n",
    "def cost(df, emb_user, emb_pd):\n",
    "    \"\"\" Computes mean square error\n",
    "    First compute prediction using the predict function.\n",
    "    Prediction for user i and movie j is emb_user[i]*emb_movie[j]\n",
    "    \n",
    "    Arguments:\n",
    "      df: dataframe with all data or a subset of the data\n",
    "      emb_user: embedings for users\n",
    "      emb_movie: embedings for movies\n",
    "      \n",
    "    Returns:\n",
    "      error(float): this is the MSE\n",
    "    \"\"\"\n",
    "    pred_df = predict(df, emb_user, emb_pd)\n",
    "    error = np.sum((pred_df['Rating'] - pred_df['prediction']) ** 2) / df.shape[0]\n",
    "    return error"
   ]
  },
  {
   "cell_type": "markdown",
   "metadata": {},
   "source": [
    "## Calculating gradient"
   ]
  },
  {
   "cell_type": "code",
   "execution_count": 16,
   "metadata": {
    "ExecuteTime": {
     "end_time": "2020-07-30T18:12:05.830099Z",
     "start_time": "2020-07-30T18:12:05.821549Z"
    }
   },
   "outputs": [],
   "source": [
    "def finite_difference(df, emb_user, emb_pd, ind_user=None, ind_pd=None, k=None):\n",
    "    \"\"\" Computes finite difference on MSE(U, V).\n",
    "    This function is used for testing the gradient function. \n",
    "    \"\"\"\n",
    "    e = 0.000000001\n",
    "    c1 = cost(df, emb_user, emb_pd)\n",
    "    K = emb_user.shape[1]\n",
    "    x = np.zeros_like(emb_user)\n",
    "    y = np.zeros_like(emb_movie)\n",
    "    if ind_user is not None:\n",
    "        x[ind_user][k] = e\n",
    "    else:\n",
    "        y[ind_pd][k] = e\n",
    "    c2 = cost(df, emb_user + x, emb_pd + y)\n",
    "    return (c2 - c1)/e"
   ]
  },
  {
   "cell_type": "code",
   "execution_count": 17,
   "metadata": {
    "ExecuteTime": {
     "end_time": "2020-07-30T18:12:06.375207Z",
     "start_time": "2020-07-30T18:12:06.367945Z"
    }
   },
   "outputs": [],
   "source": [
    "def gradient(df, emb_user, emb_pd):\n",
    "    \"\"\" Computes the gradient. \n",
    "    First compute df[\"prediction\"]. Then use df2matrix to get a sparse matrix Y and Y_hat.\n",
    "    \n",
    "    Arguments:\n",
    "      df: dataframe with all data or a subset of the data\n",
    "      Y: sparse representation of df\n",
    "      emb_user: embedings for users\n",
    "      emb_movie: embedings for movies\n",
    "      \n",
    "    Returns:\n",
    "      d_emb_user\n",
    "      d_emb_movie\n",
    "    \"\"\"\n",
    "\n",
    "    prd_df = predict(df, emb_user, emb_pd)\n",
    "    df, num_users, num_products = encode_data(prd_df)\n",
    "    \n",
    "    Y = df2matrix(df, num_users, num_products)\n",
    "    Y_hat = df2matrix(df, num_users, num_products, column_name='prediction')\n",
    "    \n",
    "    values = np.ones(df.shape[0])\n",
    "    R = sparse.csc_matrix((values,(df['AuthorId'], df['pd_id'])),shape=(num_users, num_products)).toarray()\n",
    "    grad_user = np.multiply((Y - Y_hat).toarray(), R) @ emb_pd * (-2) / df.shape[0]\n",
    "    grad_pd = np.multiply((Y - Y_hat).toarray(), R).T @ emb_user * (-2) / df.shape[0]\n",
    "\n",
    "    return grad_user, grad_pd"
   ]
  },
  {
   "cell_type": "code",
   "execution_count": 18,
   "metadata": {
    "ExecuteTime": {
     "end_time": "2020-07-30T18:12:07.050331Z",
     "start_time": "2020-07-30T18:12:07.042209Z"
    }
   },
   "outputs": [],
   "source": [
    "def gradient_descent(df, emb_user, emb_pd, iterations=100, learning_rate=0.01, df_val=None):\n",
    "    \"\"\" Computes gradient descent with momentum (0.9) for a number of iterations.\n",
    "    \n",
    "    Prints training cost and validation cost (if df_val is not None) every 50 iterations.\n",
    "    \n",
    "    Returns:\n",
    "    emb_user: the trained user embedding\n",
    "    emb_movie: the trained movie embedding\n",
    "    \"\"\"\n",
    "    Y = df2matrix(df, emb_user.shape[0], emb_pd.shape[0])\n",
    "\n",
    "    beta = 0.9\n",
    "    v_user, v_pd = gradient(df, emb_user, emb_pd)\n",
    "    \n",
    "    for i in range(iterations):\n",
    "        grad_user, grad_pd = gradient(df, emb_user, emb_pd)\n",
    "        v_user = beta*v_user + (1-beta)*grad_user\n",
    "        v_pd = beta*v_pd + (1-beta)*grad_pd\n",
    "\n",
    "        emb_user = emb_user-learning_rate*v_user\n",
    "        emb_pd = emb_pd-learning_rate*v_pd\n",
    "        \n",
    "        if (i+1) % 50 == 0:\n",
    "            print(cost(df, emb_user, emb_pd))\n",
    "            if df_val is not None:\n",
    "                print(cost(df_val, emb_user, emb_pd))\n",
    "\n",
    "    return emb_user, emb_pd"
   ]
  },
  {
   "cell_type": "markdown",
   "metadata": {},
   "source": [
    "## Putting all together"
   ]
  },
  {
   "cell_type": "code",
   "execution_count": 19,
   "metadata": {
    "ExecuteTime": {
     "end_time": "2020-07-30T18:12:08.930066Z",
     "start_time": "2020-07-30T18:12:07.639049Z"
    }
   },
   "outputs": [],
   "source": [
    "cf_df, num_users, num_products = encode_data(cf_df)\n",
    "\n",
    "K = 6\n",
    "emb_user = create_embedings(num_users, K)\n",
    "emb_pd = create_embedings(num_products, K)\n",
    "\n",
    "grad_user, grad_pd = gradient(cf_df, emb_user, emb_pd)"
   ]
  },
  {
   "cell_type": "code",
   "execution_count": 21,
   "metadata": {
    "ExecuteTime": {
     "end_time": "2020-07-30T21:29:04.580629Z",
     "start_time": "2020-07-30T18:13:59.542672Z"
    }
   },
   "outputs": [
    {
     "name": "stdout",
     "output_type": "stream",
     "text": [
      "9.477081249365579\n",
      "9.354073663334098\n",
      "9.236192428568275\n",
      "9.123138873888143\n"
     ]
    }
   ],
   "source": [
    "emb_user, emb_pd = gradient_descent(cf_df, emb_user, emb_pd, iterations=200, learning_rate=0.01)"
   ]
  },
  {
   "cell_type": "code",
   "execution_count": 63,
   "metadata": {
    "ExecuteTime": {
     "end_time": "2020-07-31T17:12:37.341331Z",
     "start_time": "2020-07-31T17:08:44.477655Z"
    }
   },
   "outputs": [
    {
     "data": {
      "text/html": [
       "<div>\n",
       "<style scoped>\n",
       "    .dataframe tbody tr th:only-of-type {\n",
       "        vertical-align: middle;\n",
       "    }\n",
       "\n",
       "    .dataframe tbody tr th {\n",
       "        vertical-align: top;\n",
       "    }\n",
       "\n",
       "    .dataframe thead th {\n",
       "        text-align: right;\n",
       "    }\n",
       "</style>\n",
       "<table border=\"1\" class=\"dataframe\">\n",
       "  <thead>\n",
       "    <tr style=\"text-align: right;\">\n",
       "      <th></th>\n",
       "      <th>AuthorId</th>\n",
       "      <th>recommend_1</th>\n",
       "      <th>recommend_2</th>\n",
       "      <th>recommend_3</th>\n",
       "      <th>recommend_4</th>\n",
       "      <th>recommend_5</th>\n",
       "      <th>recommend_6</th>\n",
       "      <th>recommend_7</th>\n",
       "      <th>recommend_8</th>\n",
       "      <th>recommend_9</th>\n",
       "      <th>recommend_10</th>\n",
       "    </tr>\n",
       "  </thead>\n",
       "  <tbody>\n",
       "    <tr>\n",
       "      <th>184739</th>\n",
       "      <td>184739</td>\n",
       "      <td>1036</td>\n",
       "      <td>1428</td>\n",
       "      <td>2283</td>\n",
       "      <td>1676</td>\n",
       "      <td>1431</td>\n",
       "      <td>1273</td>\n",
       "      <td>821</td>\n",
       "      <td>2025</td>\n",
       "      <td>1516</td>\n",
       "      <td>1394</td>\n",
       "    </tr>\n",
       "    <tr>\n",
       "      <th>2221</th>\n",
       "      <td>2221</td>\n",
       "      <td>1428</td>\n",
       "      <td>1036</td>\n",
       "      <td>1273</td>\n",
       "      <td>2186</td>\n",
       "      <td>1961</td>\n",
       "      <td>149</td>\n",
       "      <td>757</td>\n",
       "      <td>1692</td>\n",
       "      <td>503</td>\n",
       "      <td>526</td>\n",
       "    </tr>\n",
       "    <tr>\n",
       "      <th>478062</th>\n",
       "      <td>478062</td>\n",
       "      <td>1428</td>\n",
       "      <td>2186</td>\n",
       "      <td>1273</td>\n",
       "      <td>149</td>\n",
       "      <td>1036</td>\n",
       "      <td>2051</td>\n",
       "      <td>1350</td>\n",
       "      <td>1189</td>\n",
       "      <td>392</td>\n",
       "      <td>757</td>\n",
       "    </tr>\n",
       "    <tr>\n",
       "      <th>22288</th>\n",
       "      <td>22288</td>\n",
       "      <td>1273</td>\n",
       "      <td>1961</td>\n",
       "      <td>1428</td>\n",
       "      <td>1036</td>\n",
       "      <td>1453</td>\n",
       "      <td>211</td>\n",
       "      <td>821</td>\n",
       "      <td>1204</td>\n",
       "      <td>314</td>\n",
       "      <td>1165</td>\n",
       "    </tr>\n",
       "    <tr>\n",
       "      <th>317993</th>\n",
       "      <td>317993</td>\n",
       "      <td>1245</td>\n",
       "      <td>1961</td>\n",
       "      <td>2220</td>\n",
       "      <td>1516</td>\n",
       "      <td>730</td>\n",
       "      <td>1428</td>\n",
       "      <td>1036</td>\n",
       "      <td>2231</td>\n",
       "      <td>1720</td>\n",
       "      <td>1684</td>\n",
       "    </tr>\n",
       "  </tbody>\n",
       "</table>\n",
       "</div>"
      ],
      "text/plain": [
       "        AuthorId  recommend_1  recommend_2  recommend_3  recommend_4  \\\n",
       "184739    184739         1036         1428         2283         1676   \n",
       "2221        2221         1428         1036         1273         2186   \n",
       "478062    478062         1428         2186         1273          149   \n",
       "22288      22288         1273         1961         1428         1036   \n",
       "317993    317993         1245         1961         2220         1516   \n",
       "\n",
       "        recommend_5  recommend_6  recommend_7  recommend_8  recommend_9  \\\n",
       "184739         1431         1273          821         2025         1516   \n",
       "2221           1961          149          757         1692          503   \n",
       "478062         1036         2051         1350         1189          392   \n",
       "22288          1453          211          821         1204          314   \n",
       "317993          730         1428         1036         2231         1720   \n",
       "\n",
       "        recommend_10  \n",
       "184739          1394  \n",
       "2221             526  \n",
       "478062           757  \n",
       "22288           1165  \n",
       "317993          1684  "
      ]
     },
     "execution_count": 63,
     "metadata": {},
     "output_type": "execute_result"
    }
   ],
   "source": [
    "prd = emb_user @ emb_pd.T\n",
    "sorted_pd = np.argsort(prd, axis=1)\n",
    "top_n = 10\n",
    "recommend_matrix = [user[-top_n:] for user in sorted_pd]\n",
    "\n",
    "recommend_df = pd.DataFrame({'AuthorId': cf_df['AuthorId'].unique()})\n",
    "for i in range(1, top_n+1):\n",
    "    recommend_df[f'recommend_{i}'] = np.array([user[-i] for user in recommend_matrix])\n",
    "\n",
    "recommend_df.sample(5)"
   ]
  },
  {
   "cell_type": "code",
   "execution_count": null,
   "metadata": {},
   "outputs": [],
   "source": []
  }
 ],
 "metadata": {
  "kernelspec": {
   "display_name": "Python 3",
   "language": "python",
   "name": "python3"
  },
  "language_info": {
   "codemirror_mode": {
    "name": "ipython",
    "version": 3
   },
   "file_extension": ".py",
   "mimetype": "text/x-python",
   "name": "python",
   "nbconvert_exporter": "python",
   "pygments_lexer": "ipython3",
   "version": "3.7.7"
  },
  "toc": {
   "base_numbering": 1,
   "nav_menu": {},
   "number_sections": true,
   "sideBar": true,
   "skip_h1_title": false,
   "title_cell": "Table of Contents",
   "title_sidebar": "Contents",
   "toc_cell": false,
   "toc_position": {},
   "toc_section_display": true,
   "toc_window_display": false
  }
 },
 "nbformat": 4,
 "nbformat_minor": 4
}
