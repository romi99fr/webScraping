{
 "cells": [
  {
   "cell_type": "code",
   "execution_count": 1,
   "metadata": {
    "ExecuteTime": {
     "end_time": "2020-08-03T19:44:05.387138Z",
     "start_time": "2020-08-03T19:44:04.240034Z"
    }
   },
   "outputs": [],
   "source": [
    "import numpy as np\n",
    "import pandas as pd"
   ]
  },
  {
   "cell_type": "markdown",
   "metadata": {},
   "source": [
    "# Load Data"
   ]
  },
  {
   "cell_type": "code",
   "execution_count": 2,
   "metadata": {
    "ExecuteTime": {
     "end_time": "2020-08-03T19:44:25.507591Z",
     "start_time": "2020-08-03T19:44:05.390243Z"
    }
   },
   "outputs": [
    {
     "name": "stdout",
     "output_type": "stream",
     "text": [
      "<class 'pandas.core.frame.DataFrame'>\n",
      "RangeIndex: 1364686 entries, 0 to 1364685\n",
      "Data columns (total 24 columns):\n",
      " #   Column                Non-Null Count    Dtype         \n",
      "---  ------                --------------    -----         \n",
      " 0   pd_id                 1364686 non-null  object        \n",
      " 1   brand                 1364686 non-null  object        \n",
      " 2   Name                  1364686 non-null  object        \n",
      " 3   Description           1364686 non-null  object        \n",
      " 4   AverageOverallRating  1364686 non-null  float64       \n",
      " 5   love_count            1364686 non-null  float64       \n",
      " 6   reviews_count         1364686 non-null  float64       \n",
      " 7   Price                 1364686 non-null  float64       \n",
      " 8   category_1            1364686 non-null  object        \n",
      " 9   category_2            1006831 non-null  object        \n",
      " 10  category_3            957356 non-null   object        \n",
      " 11  FirstSubmissionTime   1364686 non-null  datetime64[ns]\n",
      " 12  LastSubmissionTime    1364686 non-null  datetime64[ns]\n",
      " 13  AuthorId              1364686 non-null  object        \n",
      " 14  Rating                1364686 non-null  int64         \n",
      " 15  Title                 1364686 non-null  object        \n",
      " 16  ReviewText            1364686 non-null  object        \n",
      " 17  Helpfulness           1364686 non-null  float64       \n",
      " 18  SubmissionTime        1364686 non-null  datetime64[ns]\n",
      " 19  IsRecommended         1364686 non-null  bool          \n",
      " 20  eyeColor              897237 non-null   object        \n",
      " 21  hairColor             665796 non-null   object        \n",
      " 22  skinTone              960812 non-null   object        \n",
      " 23  skinType              816669 non-null   object        \n",
      "dtypes: bool(1), datetime64[ns](3), float64(5), int64(1), object(14)\n",
      "memory usage: 240.8+ MB\n"
     ]
    }
   ],
   "source": [
    "pd.set_option('display.max_columns', None)\n",
    "df = pd.read_csv('../data/cleaned_review_data.csv', \n",
    "                 parse_dates=['SubmissionTime', 'FirstSubmissionTime', 'LastSubmissionTime'], \n",
    "                 low_memory=False)\n",
    "df.info()"
   ]
  },
  {
   "cell_type": "code",
   "execution_count": 3,
   "metadata": {
    "ExecuteTime": {
     "end_time": "2020-08-03T19:44:25.644632Z",
     "start_time": "2020-08-03T19:44:25.510918Z"
    }
   },
   "outputs": [
    {
     "data": {
      "text/html": [
       "<div>\n",
       "<style scoped>\n",
       "    .dataframe tbody tr th:only-of-type {\n",
       "        vertical-align: middle;\n",
       "    }\n",
       "\n",
       "    .dataframe tbody tr th {\n",
       "        vertical-align: top;\n",
       "    }\n",
       "\n",
       "    .dataframe thead th {\n",
       "        text-align: right;\n",
       "    }\n",
       "</style>\n",
       "<table border=\"1\" class=\"dataframe\">\n",
       "  <thead>\n",
       "    <tr style=\"text-align: right;\">\n",
       "      <th></th>\n",
       "      <th>AuthorId</th>\n",
       "      <th>pd_id</th>\n",
       "      <th>Rating</th>\n",
       "      <th>timestamp</th>\n",
       "    </tr>\n",
       "  </thead>\n",
       "  <tbody>\n",
       "    <tr>\n",
       "      <th>963270</th>\n",
       "      <td>6354605363</td>\n",
       "      <td>P442536</td>\n",
       "      <td>5</td>\n",
       "      <td>1563322175</td>\n",
       "    </tr>\n",
       "    <tr>\n",
       "      <th>155877</th>\n",
       "      <td>1531784546</td>\n",
       "      <td>P266800</td>\n",
       "      <td>1</td>\n",
       "      <td>1301318715</td>\n",
       "    </tr>\n",
       "    <tr>\n",
       "      <th>459783</th>\n",
       "      <td>2307983470</td>\n",
       "      <td>P210575</td>\n",
       "      <td>5</td>\n",
       "      <td>1489488379</td>\n",
       "    </tr>\n",
       "    <tr>\n",
       "      <th>865160</th>\n",
       "      <td>1752107198</td>\n",
       "      <td>P2855</td>\n",
       "      <td>5</td>\n",
       "      <td>1297351643</td>\n",
       "    </tr>\n",
       "    <tr>\n",
       "      <th>141057</th>\n",
       "      <td>2218807600</td>\n",
       "      <td>P46017</td>\n",
       "      <td>5</td>\n",
       "      <td>1513888777</td>\n",
       "    </tr>\n",
       "  </tbody>\n",
       "</table>\n",
       "</div>"
      ],
      "text/plain": [
       "          AuthorId    pd_id  Rating   timestamp\n",
       "963270  6354605363  P442536       5  1563322175\n",
       "155877  1531784546  P266800       1  1301318715\n",
       "459783  2307983470  P210575       5  1489488379\n",
       "865160  1752107198    P2855       5  1297351643\n",
       "141057  2218807600   P46017       5  1513888777"
      ]
     },
     "execution_count": 3,
     "metadata": {},
     "output_type": "execute_result"
    }
   ],
   "source": [
    "df['timestamp'] = df['SubmissionTime'].values.astype(np.int64) // 10 ** 9\n",
    "ratings = df[['AuthorId', 'pd_id', 'Rating', 'timestamp']]\n",
    "ratings.sample(5)"
   ]
  },
  {
   "cell_type": "code",
   "execution_count": 4,
   "metadata": {
    "ExecuteTime": {
     "end_time": "2020-08-03T19:44:25.691538Z",
     "start_time": "2020-08-03T19:44:25.647552Z"
    }
   },
   "outputs": [
    {
     "data": {
      "text/plain": [
       "5    870316\n",
       "4    241996\n",
       "3     99220\n",
       "1     80546\n",
       "2     72608\n",
       "Name: Rating, dtype: int64"
      ]
     },
     "execution_count": 4,
     "metadata": {},
     "output_type": "execute_result"
    }
   ],
   "source": [
    "ratings['Rating'].value_counts()"
   ]
  },
  {
   "cell_type": "code",
   "execution_count": 5,
   "metadata": {
    "ExecuteTime": {
     "end_time": "2020-08-03T19:44:25.965094Z",
     "start_time": "2020-08-03T19:44:25.703821Z"
    }
   },
   "outputs": [
    {
     "data": {
      "text/html": [
       "<div>\n",
       "<style scoped>\n",
       "    .dataframe tbody tr th:only-of-type {\n",
       "        vertical-align: middle;\n",
       "    }\n",
       "\n",
       "    .dataframe tbody tr th {\n",
       "        vertical-align: top;\n",
       "    }\n",
       "\n",
       "    .dataframe thead th {\n",
       "        text-align: right;\n",
       "    }\n",
       "</style>\n",
       "<table border=\"1\" class=\"dataframe\">\n",
       "  <thead>\n",
       "    <tr style=\"text-align: right;\">\n",
       "      <th></th>\n",
       "      <th>pd_id</th>\n",
       "      <th>Name</th>\n",
       "      <th>category_1</th>\n",
       "    </tr>\n",
       "  </thead>\n",
       "  <tbody>\n",
       "    <tr>\n",
       "      <th>743517</th>\n",
       "      <td>P443012</td>\n",
       "      <td>Giving Lyfe Texture Refreshing Styling Spray</td>\n",
       "      <td>Hair</td>\n",
       "    </tr>\n",
       "    <tr>\n",
       "      <th>1217986</th>\n",
       "      <td>P38220</td>\n",
       "      <td>Stella</td>\n",
       "      <td>Fragrance</td>\n",
       "    </tr>\n",
       "    <tr>\n",
       "      <th>86007</th>\n",
       "      <td>P416055</td>\n",
       "      <td>First Light Priming Filter Face Primer</td>\n",
       "      <td>Makeup</td>\n",
       "    </tr>\n",
       "    <tr>\n",
       "      <th>333735</th>\n",
       "      <td>P432657</td>\n",
       "      <td>Extra Matte Ultra Mattifying Primer</td>\n",
       "      <td>Makeup</td>\n",
       "    </tr>\n",
       "    <tr>\n",
       "      <th>999645</th>\n",
       "      <td>P376127</td>\n",
       "      <td>CANDY Eau de Parfum</td>\n",
       "      <td>Fragrance</td>\n",
       "    </tr>\n",
       "  </tbody>\n",
       "</table>\n",
       "</div>"
      ],
      "text/plain": [
       "           pd_id                                          Name category_1\n",
       "743517   P443012  Giving Lyfe Texture Refreshing Styling Spray       Hair\n",
       "1217986   P38220                                        Stella  Fragrance\n",
       "86007    P416055        First Light Priming Filter Face Primer     Makeup\n",
       "333735   P432657           Extra Matte Ultra Mattifying Primer     Makeup\n",
       "999645   P376127                           CANDY Eau de Parfum  Fragrance"
      ]
     },
     "execution_count": 5,
     "metadata": {},
     "output_type": "execute_result"
    }
   ],
   "source": [
    "pds = df[['pd_id', 'Name', 'category_1']].drop_duplicates()\n",
    "pds.sample(5)"
   ]
  },
  {
   "cell_type": "markdown",
   "metadata": {},
   "source": [
    "# Fastai CF"
   ]
  },
  {
   "cell_type": "code",
   "execution_count": 6,
   "metadata": {
    "ExecuteTime": {
     "end_time": "2020-08-03T19:44:30.736645Z",
     "start_time": "2020-08-03T19:44:25.967276Z"
    }
   },
   "outputs": [],
   "source": [
    "%reload_ext autoreload\n",
    "%autoreload 2\n",
    "%matplotlib inline\n",
    "\n",
    "from fastai.collab import *"
   ]
  },
  {
   "cell_type": "code",
   "execution_count": 7,
   "metadata": {
    "ExecuteTime": {
     "end_time": "2020-08-03T19:44:33.643015Z",
     "start_time": "2020-08-03T19:44:30.748732Z"
    }
   },
   "outputs": [],
   "source": [
    "data = CollabDataBunch.from_df(ratings, \n",
    "                               seed=42, \n",
    "                               valid_pct=0.2, \n",
    "                               user_name='AuthorId', \n",
    "                               item_name='pd_id', \n",
    "                               rating_name='Rating')"
   ]
  },
  {
   "cell_type": "markdown",
   "metadata": {
    "ExecuteTime": {
     "end_time": "2020-08-01T19:51:06.351134Z",
     "start_time": "2020-08-01T19:51:06.287983Z"
    }
   },
   "source": [
    "## EmbeddingDotBias Model"
   ]
  },
  {
   "cell_type": "code",
   "execution_count": 12,
   "metadata": {
    "ExecuteTime": {
     "end_time": "2020-08-01T19:53:04.990000Z",
     "start_time": "2020-08-01T19:53:04.461047Z"
    }
   },
   "outputs": [],
   "source": [
    "learn = collab_learner(data, n_factors=50, y_range=(1, 5), wd=1e-1)"
   ]
  },
  {
   "cell_type": "code",
   "execution_count": 13,
   "metadata": {
    "ExecuteTime": {
     "end_time": "2020-08-01T19:54:02.643361Z",
     "start_time": "2020-08-01T19:53:39.359454Z"
    }
   },
   "outputs": [
    {
     "data": {
      "text/html": [
       "\n",
       "    <div>\n",
       "        <style>\n",
       "            /* Turns off some styling */\n",
       "            progress {\n",
       "                /* gets rid of default border in Firefox and Opera. */\n",
       "                border: none;\n",
       "                /* Needs to be in here for Safari polyfill so background images work as expected. */\n",
       "                background-size: auto;\n",
       "            }\n",
       "            .progress-bar-interrupted, .progress-bar-interrupted::-webkit-progress-bar {\n",
       "                background: #F44336;\n",
       "            }\n",
       "        </style>\n",
       "      <progress value='0' class='' max='1' style='width:300px; height:20px; vertical-align: middle;'></progress>\n",
       "      0.00% [0/1 00:00<00:00]\n",
       "    </div>\n",
       "    \n",
       "<table border=\"1\" class=\"dataframe\">\n",
       "  <thead>\n",
       "    <tr style=\"text-align: left;\">\n",
       "      <th>epoch</th>\n",
       "      <th>train_loss</th>\n",
       "      <th>valid_loss</th>\n",
       "      <th>time</th>\n",
       "    </tr>\n",
       "  </thead>\n",
       "  <tbody>\n",
       "  </tbody>\n",
       "</table><p>\n",
       "\n",
       "    <div>\n",
       "        <style>\n",
       "            /* Turns off some styling */\n",
       "            progress {\n",
       "                /* gets rid of default border in Firefox and Opera. */\n",
       "                border: none;\n",
       "                /* Needs to be in here for Safari polyfill so background images work as expected. */\n",
       "                background-size: auto;\n",
       "            }\n",
       "            .progress-bar-interrupted, .progress-bar-interrupted::-webkit-progress-bar {\n",
       "                background: #F44336;\n",
       "            }\n",
       "        </style>\n",
       "      <progress value='99' class='' max='17058' style='width:300px; height:20px; vertical-align: middle;'></progress>\n",
       "      0.58% [99/17058 00:22<1:02:59 2.5725]\n",
       "    </div>\n",
       "    "
      ],
      "text/plain": [
       "<IPython.core.display.HTML object>"
      ]
     },
     "metadata": {},
     "output_type": "display_data"
    },
    {
     "name": "stdout",
     "output_type": "stream",
     "text": [
      "LR Finder is complete, type {learner_name}.recorder.plot() to see the graph.\n"
     ]
    },
    {
     "data": {
      "image/png": "[encoded data removed]",
      "text/plain": [
       "<Figure size 432x288 with 1 Axes>"
      ]
     },
     "metadata": {
      "image/png": {
       "height": 261,
       "width": 392
      },
      "needs_background": "light"
     },
     "output_type": "display_data"
    }
   ],
   "source": [
    "learn.lr_find()\n",
    "learn.recorder.plot()"
   ]
  },
  {
   "cell_type": "code",
   "execution_count": 14,
   "metadata": {
    "ExecuteTime": {
     "end_time": "2020-08-02T13:48:25.843308Z",
     "start_time": "2020-08-01T19:58:55.258528Z"
    }
   },
   "outputs": [
    {
     "data": {
      "text/html": [
       "<table border=\"1\" class=\"dataframe\">\n",
       "  <thead>\n",
       "    <tr style=\"text-align: left;\">\n",
       "      <th>epoch</th>\n",
       "      <th>train_loss</th>\n",
       "      <th>valid_loss</th>\n",
       "      <th>time</th>\n",
       "    </tr>\n",
       "  </thead>\n",
       "  <tbody>\n",
       "    <tr>\n",
       "      <td>0</td>\n",
       "      <td>2.018841</td>\n",
       "      <td>1.989568</td>\n",
       "      <td>2:27:45</td>\n",
       "    </tr>\n",
       "    <tr>\n",
       "      <td>1</td>\n",
       "      <td>2.135149</td>\n",
       "      <td>2.118508</td>\n",
       "      <td>4:06:17</td>\n",
       "    </tr>\n",
       "    <tr>\n",
       "      <td>2</td>\n",
       "      <td>1.915648</td>\n",
       "      <td>1.855183</td>\n",
       "      <td>4:05:47</td>\n",
       "    </tr>\n",
       "    <tr>\n",
       "      <td>3</td>\n",
       "      <td>1.676114</td>\n",
       "      <td>1.703966</td>\n",
       "      <td>3:56:57</td>\n",
       "    </tr>\n",
       "    <tr>\n",
       "      <td>4</td>\n",
       "      <td>1.458297</td>\n",
       "      <td>1.482833</td>\n",
       "      <td>3:12:41</td>\n",
       "    </tr>\n",
       "  </tbody>\n",
       "</table>"
      ],
      "text/plain": [
       "<IPython.core.display.HTML object>"
      ]
     },
     "metadata": {},
     "output_type": "display_data"
    }
   ],
   "source": [
    "learn.fit_one_cycle(5, 1)"
   ]
  },
  {
   "cell_type": "code",
   "execution_count": 15,
   "metadata": {
    "ExecuteTime": {
     "end_time": "2020-08-02T18:47:16.512968Z",
     "start_time": "2020-08-02T18:47:15.483710Z"
    }
   },
   "outputs": [],
   "source": [
    "learn.save('cf-EmbeddingDot-1')"
   ]
  },
  {
   "cell_type": "markdown",
   "metadata": {},
   "source": [
    "## EmbeddingNN Model"
   ]
  },
  {
   "cell_type": "code",
   "execution_count": 16,
   "metadata": {
    "ExecuteTime": {
     "end_time": "2020-08-03T18:19:01.566184Z",
     "start_time": "2020-08-03T18:19:01.039557Z"
    }
   },
   "outputs": [],
   "source": [
    "learn = collab_learner(data, \n",
    "                       use_nn=True, \n",
    "                       emb_szs={'AuthorId': 40, 'pd_id':40}, \n",
    "                       layers=[256, 128], \n",
    "                       y_range=(1, 5))"
   ]
  },
  {
   "cell_type": "code",
   "execution_count": 17,
   "metadata": {
    "ExecuteTime": {
     "end_time": "2020-08-02T18:57:03.887194Z",
     "start_time": "2020-08-02T18:56:45.884876Z"
    }
   },
   "outputs": [
    {
     "data": {
      "text/html": [
       "\n",
       "    <div>\n",
       "        <style>\n",
       "            /* Turns off some styling */\n",
       "            progress {\n",
       "                /* gets rid of default border in Firefox and Opera. */\n",
       "                border: none;\n",
       "                /* Needs to be in here for Safari polyfill so background images work as expected. */\n",
       "                background-size: auto;\n",
       "            }\n",
       "            .progress-bar-interrupted, .progress-bar-interrupted::-webkit-progress-bar {\n",
       "                background: #F44336;\n",
       "            }\n",
       "        </style>\n",
       "      <progress value='0' class='' max='1' style='width:300px; height:20px; vertical-align: middle;'></progress>\n",
       "      0.00% [0/1 00:00<00:00]\n",
       "    </div>\n",
       "    \n",
       "<table border=\"1\" class=\"dataframe\">\n",
       "  <thead>\n",
       "    <tr style=\"text-align: left;\">\n",
       "      <th>epoch</th>\n",
       "      <th>train_loss</th>\n",
       "      <th>valid_loss</th>\n",
       "      <th>time</th>\n",
       "    </tr>\n",
       "  </thead>\n",
       "  <tbody>\n",
       "  </tbody>\n",
       "</table><p>\n",
       "\n",
       "    <div>\n",
       "        <style>\n",
       "            /* Turns off some styling */\n",
       "            progress {\n",
       "                /* gets rid of default border in Firefox and Opera. */\n",
       "                border: none;\n",
       "                /* Needs to be in here for Safari polyfill so background images work as expected. */\n",
       "                background-size: auto;\n",
       "            }\n",
       "            .progress-bar-interrupted, .progress-bar-interrupted::-webkit-progress-bar {\n",
       "                background: #F44336;\n",
       "            }\n",
       "        </style>\n",
       "      <progress value='99' class='' max='17058' style='width:300px; height:20px; vertical-align: middle;'></progress>\n",
       "      0.58% [99/17058 00:17<48:57 2.4104]\n",
       "    </div>\n",
       "    "
      ],
      "text/plain": [
       "<IPython.core.display.HTML object>"
      ]
     },
     "metadata": {},
     "output_type": "display_data"
    },
    {
     "name": "stdout",
     "output_type": "stream",
     "text": [
      "LR Finder is complete, type {learner_name}.recorder.plot() to see the graph.\n"
     ]
    },
    {
     "data": {
      "image/png": "[encoded data removed]",
      "text/plain": [
       "<Figure size 432x288 with 1 Axes>"
      ]
     },
     "metadata": {
      "image/png": {
       "height": 261,
       "width": 385
      },
      "needs_background": "light"
     },
     "output_type": "display_data"
    }
   ],
   "source": [
    "learn.lr_find()\n",
    "learn.recorder.plot()"
   ]
  },
  {
   "cell_type": "code",
   "execution_count": 18,
   "metadata": {
    "ExecuteTime": {
     "end_time": "2020-08-03T07:02:02.418519Z",
     "start_time": "2020-08-02T18:57:22.690377Z"
    }
   },
   "outputs": [
    {
     "data": {
      "text/html": [
       "<table border=\"1\" class=\"dataframe\">\n",
       "  <thead>\n",
       "    <tr style=\"text-align: left;\">\n",
       "      <th>epoch</th>\n",
       "      <th>train_loss</th>\n",
       "      <th>valid_loss</th>\n",
       "      <th>time</th>\n",
       "    </tr>\n",
       "  </thead>\n",
       "  <tbody>\n",
       "    <tr>\n",
       "      <td>0</td>\n",
       "      <td>1.912365</td>\n",
       "      <td>1.902893</td>\n",
       "      <td>1:41:55</td>\n",
       "    </tr>\n",
       "    <tr>\n",
       "      <td>1</td>\n",
       "      <td>1.936313</td>\n",
       "      <td>1.898555</td>\n",
       "      <td>2:29:21</td>\n",
       "    </tr>\n",
       "    <tr>\n",
       "      <td>2</td>\n",
       "      <td>1.876780</td>\n",
       "      <td>1.898555</td>\n",
       "      <td>2:38:44</td>\n",
       "    </tr>\n",
       "    <tr>\n",
       "      <td>3</td>\n",
       "      <td>1.829300</td>\n",
       "      <td>1.898555</td>\n",
       "      <td>2:45:16</td>\n",
       "    </tr>\n",
       "    <tr>\n",
       "      <td>4</td>\n",
       "      <td>1.317304</td>\n",
       "      <td>1.316617</td>\n",
       "      <td>2:29:21</td>\n",
       "    </tr>\n",
       "  </tbody>\n",
       "</table>"
      ],
      "text/plain": [
       "<IPython.core.display.HTML object>"
      ]
     },
     "metadata": {},
     "output_type": "display_data"
    }
   ],
   "source": [
    "learn.fit_one_cycle(5, 1)"
   ]
  },
  {
   "cell_type": "code",
   "execution_count": 19,
   "metadata": {
    "ExecuteTime": {
     "end_time": "2020-08-03T16:52:02.277812Z",
     "start_time": "2020-08-03T16:52:01.911682Z"
    }
   },
   "outputs": [],
   "source": [
    "learn.save('cf-EmbeddingNN-1')"
   ]
  },
  {
   "cell_type": "markdown",
   "metadata": {},
   "source": [
    "## Interpretation"
   ]
  },
  {
   "cell_type": "code",
   "execution_count": 25,
   "metadata": {
    "ExecuteTime": {
     "end_time": "2020-08-03T21:46:06.311881Z",
     "start_time": "2020-08-03T21:46:05.210066Z"
    }
   },
   "outputs": [
    {
     "data": {
      "text/plain": [
       "EmbeddingDotBias(\n",
       "  (u_weight): Embedding(578749, 50)\n",
       "  (i_weight): Embedding(2295, 50)\n",
       "  (u_bias): Embedding(578749, 1)\n",
       "  (i_bias): Embedding(2295, 1)\n",
       ")"
      ]
     },
     "execution_count": 25,
     "metadata": {},
     "output_type": "execute_result"
    }
   ],
   "source": [
    "# load in EmbeddingDotBias model\n",
    "learn = collab_learner(data, n_factors=50, y_range=(1, 5), wd=1e-1)\n",
    "learn.load('cf-EmbeddingDot-1')\n",
    "learn.model"
   ]
  },
  {
   "cell_type": "code",
   "execution_count": 26,
   "metadata": {
    "ExecuteTime": {
     "end_time": "2020-08-03T21:46:11.186655Z",
     "start_time": "2020-08-03T21:46:08.699689Z"
    }
   },
   "outputs": [],
   "source": [
    "# get top products\n",
    "g = ratings.groupby('pd_id')['Rating'].count()\n",
    "top_pds = g.sort_values(ascending=False).index.values[:2000]\n",
    "\n",
    "# get top users\n",
    "u = ratings.groupby('AuthorId')['Rating'].count()\n",
    "top_users = u.sort_values(ascending=False).index.values[:2000]\n",
    "\n",
    "# create array containing the names of the top products\n",
    "top_pds_with_name = []\n",
    "for pd_ in top_pds:\n",
    "    top_pds_with_name.append(pds[(pds['pd_id']==pd_)]['Name'].values[0])\n",
    "top_pds_with_name = np.array(top_pds_with_name)"
   ]
  },
  {
   "cell_type": "code",
   "execution_count": 27,
   "metadata": {
    "ExecuteTime": {
     "end_time": "2020-08-03T21:46:11.619090Z",
     "start_time": "2020-08-03T21:46:11.189425Z"
    }
   },
   "outputs": [],
   "source": [
    "# get top product weights\n",
    "pd_weights = learn.weight(top_pds, is_item=True)\n",
    "\n",
    "# get top user weights\n",
    "user_weights = learn.weight(top_users, is_item=False)\n",
    "\n",
    "# get top product biases\n",
    "pd_bias = learn.bias(top_pds, is_item=True)\n",
    "\n",
    "# get top user biases\n",
    "user_bias = learn.bias(top_users, is_item=False)\n"
   ]
  },
  {
   "cell_type": "code",
   "execution_count": 28,
   "metadata": {
    "ExecuteTime": {
     "end_time": "2020-08-03T21:46:11.707156Z",
     "start_time": "2020-08-03T21:46:11.622434Z"
    }
   },
   "outputs": [],
   "source": [
    "res = user_weights @ pd_weights.T + pd_bias.unsqueeze(-2) + user_bias.unsqueeze(-1)\n",
    "result = torch.sigmoid(res) * (5-1) + 1"
   ]
  },
  {
   "cell_type": "code",
   "execution_count": 29,
   "metadata": {
    "ExecuteTime": {
     "end_time": "2020-08-03T21:46:13.838387Z",
     "start_time": "2020-08-03T21:46:13.560780Z"
    }
   },
   "outputs": [
    {
     "data": {
      "text/html": [
       "<div>\n",
       "<style scoped>\n",
       "    .dataframe tbody tr th:only-of-type {\n",
       "        vertical-align: middle;\n",
       "    }\n",
       "\n",
       "    .dataframe tbody tr th {\n",
       "        vertical-align: top;\n",
       "    }\n",
       "\n",
       "    .dataframe thead th {\n",
       "        text-align: right;\n",
       "    }\n",
       "</style>\n",
       "<table border=\"1\" class=\"dataframe\">\n",
       "  <thead>\n",
       "    <tr style=\"text-align: right;\">\n",
       "      <th></th>\n",
       "      <th>0</th>\n",
       "      <th>1</th>\n",
       "      <th>2</th>\n",
       "      <th>3</th>\n",
       "      <th>4</th>\n",
       "      <th>5</th>\n",
       "      <th>6</th>\n",
       "      <th>7</th>\n",
       "      <th>8</th>\n",
       "      <th>9</th>\n",
       "    </tr>\n",
       "  </thead>\n",
       "  <tbody>\n",
       "    <tr>\n",
       "      <th>1126147141</th>\n",
       "      <td>Flowerbomb Mini</td>\n",
       "      <td>Flowerbomb</td>\n",
       "      <td>Jet Lag Mask Mini</td>\n",
       "      <td>Full-On™: Plumping Lip Polish Gloss</td>\n",
       "      <td>24/7 Glide-On Eye Pencil</td>\n",
       "      <td>Amazing Grace Shampoo, Bath &amp; Shower Gel</td>\n",
       "      <td>Facial Cotton</td>\n",
       "      <td>Liquid Facial Soap</td>\n",
       "      <td>Eye-Conic Multi-Finish Eyeshadow Palette</td>\n",
       "      <td>Blush</td>\n",
       "    </tr>\n",
       "    <tr>\n",
       "      <th>1533231934</th>\n",
       "      <td>Facial Cotton</td>\n",
       "      <td>Full-On™: Plumping Lip Polish Gloss</td>\n",
       "      <td>Blush</td>\n",
       "      <td>Flowerbomb Mini</td>\n",
       "      <td>Flowerbomb</td>\n",
       "      <td>Eye-Conic Multi-Finish Eyeshadow Palette</td>\n",
       "      <td>Rosebud Salve</td>\n",
       "      <td>Ultra Repair® Cream Intense Hydration</td>\n",
       "      <td>Intense Therapy Lip Balm SPF 25</td>\n",
       "      <td>24/7 Glide-On Eye Pencil</td>\n",
       "    </tr>\n",
       "    <tr>\n",
       "      <th>1000235057</th>\n",
       "      <td>Original Loose Powder Mineral Foundation Broad...</td>\n",
       "      <td>Juicy Tubes Original Lip Gloss 20 Birthday Con...</td>\n",
       "      <td>All Nighter Long-Lasting Makeup Setting Spray ...</td>\n",
       "      <td>All Nighter Long-Lasting Makeup Setting Spray</td>\n",
       "      <td>All Nighter Long-Lasting Makeup Setting Spray ...</td>\n",
       "      <td>Blush</td>\n",
       "      <td>Alpha Beta® Extra Strength Daily Peel</td>\n",
       "      <td>Full-On™: Plumping Lip Cream Gloss</td>\n",
       "      <td>Sugar Lip Balm Sunscreen SPF 15</td>\n",
       "      <td>Viva La Juicy</td>\n",
       "    </tr>\n",
       "    <tr>\n",
       "      <th>5309062776</th>\n",
       "      <td>Jet Lag Mask Mini</td>\n",
       "      <td>Flowerbomb Mini</td>\n",
       "      <td>Jet Lag Mask</td>\n",
       "      <td>Amazing Grace Shampoo, Bath &amp; Shower Gel</td>\n",
       "      <td>Flowerbomb</td>\n",
       "      <td>24/7 Glide-On Eye Pencil</td>\n",
       "      <td>Liquid Facial Soap</td>\n",
       "      <td>KUSH High Volume Mascara</td>\n",
       "      <td>Mini Brazilian Bum Bum Cream</td>\n",
       "      <td>SUPERMUD® Charcoal Instant Treatment Mask</td>\n",
       "    </tr>\n",
       "    <tr>\n",
       "      <th>1040369429</th>\n",
       "      <td>Blush</td>\n",
       "      <td>Facial Cotton</td>\n",
       "      <td>Original Loose Powder Mineral Foundation Broad...</td>\n",
       "      <td>Full-On™: Plumping Lip Polish Gloss</td>\n",
       "      <td>Intense Therapy Lip Balm SPF 25</td>\n",
       "      <td>Eye-Conic Multi-Finish Eyeshadow Palette</td>\n",
       "      <td>Amazonian Clay 12-Hour Blush</td>\n",
       "      <td>Ultra Repair® Cream Intense Hydration</td>\n",
       "      <td>Bi-Facil Double-Action Eye Makeup Remover</td>\n",
       "      <td>Rosebud Salve</td>\n",
       "    </tr>\n",
       "    <tr>\n",
       "      <th>...</th>\n",
       "      <td>...</td>\n",
       "      <td>...</td>\n",
       "      <td>...</td>\n",
       "      <td>...</td>\n",
       "      <td>...</td>\n",
       "      <td>...</td>\n",
       "      <td>...</td>\n",
       "      <td>...</td>\n",
       "      <td>...</td>\n",
       "      <td>...</td>\n",
       "    </tr>\n",
       "    <tr>\n",
       "      <th>1312793027</th>\n",
       "      <td>Original Loose Powder Mineral Foundation Broad...</td>\n",
       "      <td>Blush</td>\n",
       "      <td>Facial Cotton</td>\n",
       "      <td>Full-On™: Plumping Lip Polish Gloss</td>\n",
       "      <td>Intense Therapy Lip Balm SPF 25</td>\n",
       "      <td>Eye-Conic Multi-Finish Eyeshadow Palette</td>\n",
       "      <td>Amazonian Clay 12-Hour Blush</td>\n",
       "      <td>Alpha Beta® Extra Strength Daily Peel</td>\n",
       "      <td>Studded Kiss Crème Lipstick OG Lolita</td>\n",
       "      <td>Bi-Facil Double-Action Eye Makeup Remover</td>\n",
       "    </tr>\n",
       "    <tr>\n",
       "      <th>1233355078</th>\n",
       "      <td>Jet Lag Mask Mini</td>\n",
       "      <td>Flowerbomb Mini</td>\n",
       "      <td>Flowerbomb</td>\n",
       "      <td>Amazing Grace Shampoo, Bath &amp; Shower Gel</td>\n",
       "      <td>24/7 Glide-On Eye Pencil</td>\n",
       "      <td>Full-On™: Plumping Lip Polish Gloss</td>\n",
       "      <td>Liquid Facial Soap</td>\n",
       "      <td>Jet Lag Mask</td>\n",
       "      <td>Facial Cotton</td>\n",
       "      <td>Mini Brazilian Bum Bum Cream</td>\n",
       "    </tr>\n",
       "    <tr>\n",
       "      <th>2005623913</th>\n",
       "      <td>Facial Cotton</td>\n",
       "      <td>Full-On™: Plumping Lip Polish Gloss</td>\n",
       "      <td>Blush</td>\n",
       "      <td>Flowerbomb Mini</td>\n",
       "      <td>Flowerbomb</td>\n",
       "      <td>Eye-Conic Multi-Finish Eyeshadow Palette</td>\n",
       "      <td>Intense Therapy Lip Balm SPF 25</td>\n",
       "      <td>Rosebud Salve</td>\n",
       "      <td>Ultra Repair® Cream Intense Hydration</td>\n",
       "      <td>24/7 Glide-On Eye Pencil</td>\n",
       "    </tr>\n",
       "    <tr>\n",
       "      <th>986576472</th>\n",
       "      <td>Facial Cotton</td>\n",
       "      <td>Full-On™: Plumping Lip Polish Gloss</td>\n",
       "      <td>Blush</td>\n",
       "      <td>Eye-Conic Multi-Finish Eyeshadow Palette</td>\n",
       "      <td>Flowerbomb</td>\n",
       "      <td>Flowerbomb Mini</td>\n",
       "      <td>Intense Therapy Lip Balm SPF 25</td>\n",
       "      <td>Ultra Repair® Cream Intense Hydration</td>\n",
       "      <td>Rosebud Salve</td>\n",
       "      <td>Bi-Facil Double-Action Eye Makeup Remover</td>\n",
       "    </tr>\n",
       "    <tr>\n",
       "      <th>11442033172</th>\n",
       "      <td>Flowerbomb Mini</td>\n",
       "      <td>Flowerbomb</td>\n",
       "      <td>Full-On™: Plumping Lip Polish Gloss</td>\n",
       "      <td>Jet Lag Mask Mini</td>\n",
       "      <td>Facial Cotton</td>\n",
       "      <td>24/7 Glide-On Eye Pencil</td>\n",
       "      <td>Amazing Grace Shampoo, Bath &amp; Shower Gel</td>\n",
       "      <td>Eye-Conic Multi-Finish Eyeshadow Palette</td>\n",
       "      <td>Liquid Facial Soap</td>\n",
       "      <td>Blush</td>\n",
       "    </tr>\n",
       "  </tbody>\n",
       "</table>\n",
       "<p>2000 rows × 10 columns</p>\n",
       "</div>"
      ],
      "text/plain": [
       "                                                             0  \\\n",
       "1126147141                                     Flowerbomb Mini   \n",
       "1533231934                                       Facial Cotton   \n",
       "1000235057   Original Loose Powder Mineral Foundation Broad...   \n",
       "5309062776                                   Jet Lag Mask Mini   \n",
       "1040369429                                               Blush   \n",
       "...                                                        ...   \n",
       "1312793027   Original Loose Powder Mineral Foundation Broad...   \n",
       "1233355078                                   Jet Lag Mask Mini   \n",
       "2005623913                                       Facial Cotton   \n",
       "986576472                                        Facial Cotton   \n",
       "11442033172                                    Flowerbomb Mini   \n",
       "\n",
       "                                                             1  \\\n",
       "1126147141                                          Flowerbomb   \n",
       "1533231934                 Full-On™: Plumping Lip Polish Gloss   \n",
       "1000235057   Juicy Tubes Original Lip Gloss 20 Birthday Con...   \n",
       "5309062776                                     Flowerbomb Mini   \n",
       "1040369429                                       Facial Cotton   \n",
       "...                                                        ...   \n",
       "1312793027                                               Blush   \n",
       "1233355078                                     Flowerbomb Mini   \n",
       "2005623913                 Full-On™: Plumping Lip Polish Gloss   \n",
       "986576472                  Full-On™: Plumping Lip Polish Gloss   \n",
       "11442033172                                         Flowerbomb   \n",
       "\n",
       "                                                             2  \\\n",
       "1126147141                                   Jet Lag Mask Mini   \n",
       "1533231934                                               Blush   \n",
       "1000235057   All Nighter Long-Lasting Makeup Setting Spray ...   \n",
       "5309062776                                        Jet Lag Mask   \n",
       "1040369429   Original Loose Powder Mineral Foundation Broad...   \n",
       "...                                                        ...   \n",
       "1312793027                                       Facial Cotton   \n",
       "1233355078                                          Flowerbomb   \n",
       "2005623913                                               Blush   \n",
       "986576472                                                Blush   \n",
       "11442033172                Full-On™: Plumping Lip Polish Gloss   \n",
       "\n",
       "                                                         3  \\\n",
       "1126147141             Full-On™: Plumping Lip Polish Gloss   \n",
       "1533231934                                 Flowerbomb Mini   \n",
       "1000235057   All Nighter Long-Lasting Makeup Setting Spray   \n",
       "5309062776        Amazing Grace Shampoo, Bath & Shower Gel   \n",
       "1040369429             Full-On™: Plumping Lip Polish Gloss   \n",
       "...                                                    ...   \n",
       "1312793027             Full-On™: Plumping Lip Polish Gloss   \n",
       "1233355078        Amazing Grace Shampoo, Bath & Shower Gel   \n",
       "2005623913                                 Flowerbomb Mini   \n",
       "986576472         Eye-Conic Multi-Finish Eyeshadow Palette   \n",
       "11442033172                              Jet Lag Mask Mini   \n",
       "\n",
       "                                                             4  \\\n",
       "1126147141                            24/7 Glide-On Eye Pencil   \n",
       "1533231934                                          Flowerbomb   \n",
       "1000235057   All Nighter Long-Lasting Makeup Setting Spray ...   \n",
       "5309062776                                          Flowerbomb   \n",
       "1040369429                     Intense Therapy Lip Balm SPF 25   \n",
       "...                                                        ...   \n",
       "1312793027                     Intense Therapy Lip Balm SPF 25   \n",
       "1233355078                            24/7 Glide-On Eye Pencil   \n",
       "2005623913                                          Flowerbomb   \n",
       "986576472                                           Flowerbomb   \n",
       "11442033172                                      Facial Cotton   \n",
       "\n",
       "                                                    5  \\\n",
       "1126147141   Amazing Grace Shampoo, Bath & Shower Gel   \n",
       "1533231934   Eye-Conic Multi-Finish Eyeshadow Palette   \n",
       "1000235057                                      Blush   \n",
       "5309062776                   24/7 Glide-On Eye Pencil   \n",
       "1040369429   Eye-Conic Multi-Finish Eyeshadow Palette   \n",
       "...                                               ...   \n",
       "1312793027   Eye-Conic Multi-Finish Eyeshadow Palette   \n",
       "1233355078        Full-On™: Plumping Lip Polish Gloss   \n",
       "2005623913   Eye-Conic Multi-Finish Eyeshadow Palette   \n",
       "986576472                             Flowerbomb Mini   \n",
       "11442033172                  24/7 Glide-On Eye Pencil   \n",
       "\n",
       "                                                    6  \\\n",
       "1126147141                              Facial Cotton   \n",
       "1533231934                              Rosebud Salve   \n",
       "1000235057      Alpha Beta® Extra Strength Daily Peel   \n",
       "5309062776                         Liquid Facial Soap   \n",
       "1040369429               Amazonian Clay 12-Hour Blush   \n",
       "...                                               ...   \n",
       "1312793027               Amazonian Clay 12-Hour Blush   \n",
       "1233355078                         Liquid Facial Soap   \n",
       "2005623913            Intense Therapy Lip Balm SPF 25   \n",
       "986576472             Intense Therapy Lip Balm SPF 25   \n",
       "11442033172  Amazing Grace Shampoo, Bath & Shower Gel   \n",
       "\n",
       "                                                    7  \\\n",
       "1126147141                         Liquid Facial Soap   \n",
       "1533231934      Ultra Repair® Cream Intense Hydration   \n",
       "1000235057         Full-On™: Plumping Lip Cream Gloss   \n",
       "5309062776                   KUSH High Volume Mascara   \n",
       "1040369429      Ultra Repair® Cream Intense Hydration   \n",
       "...                                               ...   \n",
       "1312793027      Alpha Beta® Extra Strength Daily Peel   \n",
       "1233355078                               Jet Lag Mask   \n",
       "2005623913                              Rosebud Salve   \n",
       "986576472       Ultra Repair® Cream Intense Hydration   \n",
       "11442033172  Eye-Conic Multi-Finish Eyeshadow Palette   \n",
       "\n",
       "                                                     8  \\\n",
       "1126147141    Eye-Conic Multi-Finish Eyeshadow Palette   \n",
       "1533231934             Intense Therapy Lip Balm SPF 25   \n",
       "1000235057             Sugar Lip Balm Sunscreen SPF 15   \n",
       "5309062776                Mini Brazilian Bum Bum Cream   \n",
       "1040369429   Bi-Facil Double-Action Eye Makeup Remover   \n",
       "...                                                ...   \n",
       "1312793027       Studded Kiss Crème Lipstick OG Lolita   \n",
       "1233355078                               Facial Cotton   \n",
       "2005623913       Ultra Repair® Cream Intense Hydration   \n",
       "986576472                                Rosebud Salve   \n",
       "11442033172                         Liquid Facial Soap   \n",
       "\n",
       "                                                     9  \n",
       "1126147141                                       Blush  \n",
       "1533231934                    24/7 Glide-On Eye Pencil  \n",
       "1000235057                               Viva La Juicy  \n",
       "5309062776   SUPERMUD® Charcoal Instant Treatment Mask  \n",
       "1040369429                               Rosebud Salve  \n",
       "...                                                ...  \n",
       "1312793027   Bi-Facil Double-Action Eye Makeup Remover  \n",
       "1233355078                Mini Brazilian Bum Bum Cream  \n",
       "2005623913                    24/7 Glide-On Eye Pencil  \n",
       "986576472    Bi-Facil Double-Action Eye Makeup Remover  \n",
       "11442033172                                      Blush  \n",
       "\n",
       "[2000 rows x 10 columns]"
      ]
     },
     "execution_count": 29,
     "metadata": {},
     "output_type": "execute_result"
    }
   ],
   "source": [
    "top_10 = np.array([top_pds_with_name[np.argsort(user)[-10:][::-1]] for user in result.numpy()])\n",
    "result_df = pd.DataFrame(top_10)\n",
    "result_df.index = top_users\n",
    "result_df"
   ]
  },
  {
   "cell_type": "code",
   "execution_count": 30,
   "metadata": {
    "ExecuteTime": {
     "end_time": "2020-08-03T21:47:38.931663Z",
     "start_time": "2020-08-03T21:47:38.689226Z"
    }
   },
   "outputs": [
    {
     "data": {
      "text/html": [
       "<div>\n",
       "<style scoped>\n",
       "    .dataframe tbody tr th:only-of-type {\n",
       "        vertical-align: middle;\n",
       "    }\n",
       "\n",
       "    .dataframe tbody tr th {\n",
       "        vertical-align: top;\n",
       "    }\n",
       "\n",
       "    .dataframe thead th {\n",
       "        text-align: right;\n",
       "    }\n",
       "</style>\n",
       "<table border=\"1\" class=\"dataframe\">\n",
       "  <thead>\n",
       "    <tr style=\"text-align: right;\">\n",
       "      <th></th>\n",
       "      <th>0</th>\n",
       "      <th>1</th>\n",
       "      <th>2</th>\n",
       "      <th>3</th>\n",
       "      <th>4</th>\n",
       "      <th>5</th>\n",
       "      <th>6</th>\n",
       "      <th>7</th>\n",
       "      <th>8</th>\n",
       "      <th>9</th>\n",
       "    </tr>\n",
       "  </thead>\n",
       "  <tbody>\n",
       "    <tr>\n",
       "      <th>1126147141</th>\n",
       "      <td>4.806048</td>\n",
       "      <td>4.779794</td>\n",
       "      <td>4.779572</td>\n",
       "      <td>4.763242</td>\n",
       "      <td>4.742363</td>\n",
       "      <td>4.741970</td>\n",
       "      <td>4.731048</td>\n",
       "      <td>4.716889</td>\n",
       "      <td>4.699786</td>\n",
       "      <td>4.677391</td>\n",
       "    </tr>\n",
       "    <tr>\n",
       "      <th>1533231934</th>\n",
       "      <td>4.627478</td>\n",
       "      <td>4.625252</td>\n",
       "      <td>4.600120</td>\n",
       "      <td>4.588930</td>\n",
       "      <td>4.580439</td>\n",
       "      <td>4.566939</td>\n",
       "      <td>4.525239</td>\n",
       "      <td>4.523875</td>\n",
       "      <td>4.523691</td>\n",
       "      <td>4.521160</td>\n",
       "    </tr>\n",
       "    <tr>\n",
       "      <th>1000235057</th>\n",
       "      <td>4.817780</td>\n",
       "      <td>4.743483</td>\n",
       "      <td>4.702361</td>\n",
       "      <td>4.688555</td>\n",
       "      <td>4.650560</td>\n",
       "      <td>4.598567</td>\n",
       "      <td>4.579232</td>\n",
       "      <td>4.557920</td>\n",
       "      <td>4.535449</td>\n",
       "      <td>4.534083</td>\n",
       "    </tr>\n",
       "    <tr>\n",
       "      <th>5309062776</th>\n",
       "      <td>4.994506</td>\n",
       "      <td>4.980643</td>\n",
       "      <td>4.972629</td>\n",
       "      <td>4.965010</td>\n",
       "      <td>4.962045</td>\n",
       "      <td>4.951126</td>\n",
       "      <td>4.949418</td>\n",
       "      <td>4.927596</td>\n",
       "      <td>4.920825</td>\n",
       "      <td>4.916458</td>\n",
       "    </tr>\n",
       "    <tr>\n",
       "      <th>1040369429</th>\n",
       "      <td>4.598138</td>\n",
       "      <td>4.589921</td>\n",
       "      <td>4.565938</td>\n",
       "      <td>4.540082</td>\n",
       "      <td>4.506602</td>\n",
       "      <td>4.506198</td>\n",
       "      <td>4.479554</td>\n",
       "      <td>4.473452</td>\n",
       "      <td>4.470031</td>\n",
       "      <td>4.469373</td>\n",
       "    </tr>\n",
       "    <tr>\n",
       "      <th>...</th>\n",
       "      <td>...</td>\n",
       "      <td>...</td>\n",
       "      <td>...</td>\n",
       "      <td>...</td>\n",
       "      <td>...</td>\n",
       "      <td>...</td>\n",
       "      <td>...</td>\n",
       "      <td>...</td>\n",
       "      <td>...</td>\n",
       "      <td>...</td>\n",
       "    </tr>\n",
       "    <tr>\n",
       "      <th>1312793027</th>\n",
       "      <td>4.535925</td>\n",
       "      <td>4.511010</td>\n",
       "      <td>4.488945</td>\n",
       "      <td>4.412057</td>\n",
       "      <td>4.398044</td>\n",
       "      <td>4.382082</td>\n",
       "      <td>4.374367</td>\n",
       "      <td>4.358592</td>\n",
       "      <td>4.356589</td>\n",
       "      <td>4.352622</td>\n",
       "    </tr>\n",
       "    <tr>\n",
       "      <th>1233355078</th>\n",
       "      <td>4.799407</td>\n",
       "      <td>4.782482</td>\n",
       "      <td>4.732614</td>\n",
       "      <td>4.698560</td>\n",
       "      <td>4.683778</td>\n",
       "      <td>4.668229</td>\n",
       "      <td>4.656349</td>\n",
       "      <td>4.632906</td>\n",
       "      <td>4.585175</td>\n",
       "      <td>4.577404</td>\n",
       "    </tr>\n",
       "    <tr>\n",
       "      <th>2005623913</th>\n",
       "      <td>4.538821</td>\n",
       "      <td>4.533317</td>\n",
       "      <td>4.508286</td>\n",
       "      <td>4.482602</td>\n",
       "      <td>4.474674</td>\n",
       "      <td>4.464905</td>\n",
       "      <td>4.416180</td>\n",
       "      <td>4.415585</td>\n",
       "      <td>4.414299</td>\n",
       "      <td>4.403385</td>\n",
       "    </tr>\n",
       "    <tr>\n",
       "      <th>986576472</th>\n",
       "      <td>4.536937</td>\n",
       "      <td>4.518427</td>\n",
       "      <td>4.517290</td>\n",
       "      <td>4.457787</td>\n",
       "      <td>4.437265</td>\n",
       "      <td>4.434034</td>\n",
       "      <td>4.422261</td>\n",
       "      <td>4.410893</td>\n",
       "      <td>4.410636</td>\n",
       "      <td>4.386035</td>\n",
       "    </tr>\n",
       "    <tr>\n",
       "      <th>11442033172</th>\n",
       "      <td>4.625692</td>\n",
       "      <td>4.587510</td>\n",
       "      <td>4.576567</td>\n",
       "      <td>4.551260</td>\n",
       "      <td>4.536166</td>\n",
       "      <td>4.523322</td>\n",
       "      <td>4.515741</td>\n",
       "      <td>4.480176</td>\n",
       "      <td>4.477759</td>\n",
       "      <td>4.462424</td>\n",
       "    </tr>\n",
       "  </tbody>\n",
       "</table>\n",
       "<p>2000 rows × 10 columns</p>\n",
       "</div>"
      ],
      "text/plain": [
       "                    0         1         2         3         4         5  \\\n",
       "1126147141   4.806048  4.779794  4.779572  4.763242  4.742363  4.741970   \n",
       "1533231934   4.627478  4.625252  4.600120  4.588930  4.580439  4.566939   \n",
       "1000235057   4.817780  4.743483  4.702361  4.688555  4.650560  4.598567   \n",
       "5309062776   4.994506  4.980643  4.972629  4.965010  4.962045  4.951126   \n",
       "1040369429   4.598138  4.589921  4.565938  4.540082  4.506602  4.506198   \n",
       "...               ...       ...       ...       ...       ...       ...   \n",
       "1312793027   4.535925  4.511010  4.488945  4.412057  4.398044  4.382082   \n",
       "1233355078   4.799407  4.782482  4.732614  4.698560  4.683778  4.668229   \n",
       "2005623913   4.538821  4.533317  4.508286  4.482602  4.474674  4.464905   \n",
       "986576472    4.536937  4.518427  4.517290  4.457787  4.437265  4.434034   \n",
       "11442033172  4.625692  4.587510  4.576567  4.551260  4.536166  4.523322   \n",
       "\n",
       "                    6         7         8         9  \n",
       "1126147141   4.731048  4.716889  4.699786  4.677391  \n",
       "1533231934   4.525239  4.523875  4.523691  4.521160  \n",
       "1000235057   4.579232  4.557920  4.535449  4.534083  \n",
       "5309062776   4.949418  4.927596  4.920825  4.916458  \n",
       "1040369429   4.479554  4.473452  4.470031  4.469373  \n",
       "...               ...       ...       ...       ...  \n",
       "1312793027   4.374367  4.358592  4.356589  4.352622  \n",
       "1233355078   4.656349  4.632906  4.585175  4.577404  \n",
       "2005623913   4.416180  4.415585  4.414299  4.403385  \n",
       "986576472    4.422261  4.410893  4.410636  4.386035  \n",
       "11442033172  4.515741  4.480176  4.477759  4.462424  \n",
       "\n",
       "[2000 rows x 10 columns]"
      ]
     },
     "execution_count": 30,
     "metadata": {},
     "output_type": "execute_result"
    }
   ],
   "source": [
    "top_10_ = np.array([np.sort(user)[-10:][::-1] for user in result.numpy()])\n",
    "result_df_ = pd.DataFrame(top_10_)\n",
    "result_df_.index = top_users\n",
    "result_df_"
   ]
  },
  {
   "cell_type": "code",
   "execution_count": null,
   "metadata": {},
   "outputs": [],
   "source": []
  }
 ],
 "metadata": {
  "kernelspec": {
   "display_name": "Python 3",
   "language": "python",
   "name": "python3"
  },
  "language_info": {
   "codemirror_mode": {
    "name": "ipython",
    "version": 3
   },
   "file_extension": ".py",
   "mimetype": "text/x-python",
   "name": "python",
   "nbconvert_exporter": "python",
   "pygments_lexer": "ipython3",
   "version": "3.7.7"
  },
  "toc": {
   "base_numbering": 1,
   "nav_menu": {},
   "number_sections": true,
   "sideBar": true,
   "skip_h1_title": false,
   "title_cell": "Table of Contents",
   "title_sidebar": "Contents",
   "toc_cell": false,
   "toc_position": {},
   "toc_section_display": true,
   "toc_window_display": false
  }
 },
 "nbformat": 4,
 "nbformat_minor": 4
}
