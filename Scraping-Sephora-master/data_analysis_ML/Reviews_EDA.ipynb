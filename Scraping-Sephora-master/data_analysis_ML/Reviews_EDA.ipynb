{
 "cells": [
  {
   "cell_type": "code",
   "execution_count": 1,
   "metadata": {
    "ExecuteTime": {
     "end_time": "2020-07-23T20:25:05.990512Z",
     "start_time": "2020-07-23T20:25:04.734143Z"
    }
   },
   "outputs": [],
   "source": [
    "import pandas as pd"
   ]
  },
  {
   "cell_type": "code",
   "execution_count": 2,
   "metadata": {
    "ExecuteTime": {
     "end_time": "2020-07-23T20:25:24.557824Z",
     "start_time": "2020-07-23T20:25:05.994175Z"
    }
   },
   "outputs": [
    {
     "data": {
      "text/html": [
       "<div>\n",
       "<style scoped>\n",
       "    .dataframe tbody tr th:only-of-type {\n",
       "        vertical-align: middle;\n",
       "    }\n",
       "\n",
       "    .dataframe tbody tr th {\n",
       "        vertical-align: top;\n",
       "    }\n",
       "\n",
       "    .dataframe thead th {\n",
       "        text-align: right;\n",
       "    }\n",
       "</style>\n",
       "<table border=\"1\" class=\"dataframe\">\n",
       "  <thead>\n",
       "    <tr style=\"text-align: right;\">\n",
       "      <th></th>\n",
       "      <th>pd_id</th>\n",
       "      <th>brand</th>\n",
       "      <th>Name</th>\n",
       "      <th>Description</th>\n",
       "      <th>AverageOverallRating</th>\n",
       "      <th>love_count</th>\n",
       "      <th>reviews_count</th>\n",
       "      <th>Price</th>\n",
       "      <th>category_1</th>\n",
       "      <th>category_2</th>\n",
       "      <th>category_3</th>\n",
       "      <th>FirstSubmissionTime</th>\n",
       "      <th>LastSubmissionTime</th>\n",
       "      <th>AuthorId</th>\n",
       "      <th>Rating</th>\n",
       "      <th>Title</th>\n",
       "      <th>ReviewText</th>\n",
       "      <th>Helpfulness</th>\n",
       "      <th>SubmissionTime</th>\n",
       "      <th>IsRecommended</th>\n",
       "      <th>eyeColor</th>\n",
       "      <th>hairColor</th>\n",
       "      <th>skinTone</th>\n",
       "      <th>skinType</th>\n",
       "    </tr>\n",
       "  </thead>\n",
       "  <tbody>\n",
       "    <tr>\n",
       "      <th>532103</th>\n",
       "      <td>P403497</td>\n",
       "      <td>juicy-couture</td>\n",
       "      <td>Viva La Juicy Rosé</td>\n",
       "      <td>Celebrate with Viva la Juicy Rosé, a light-hea...</td>\n",
       "      <td>4.6984</td>\n",
       "      <td>6726.0</td>\n",
       "      <td>63.0</td>\n",
       "      <td>79.0</td>\n",
       "      <td>Fragrance</td>\n",
       "      <td>NaN</td>\n",
       "      <td>NaN</td>\n",
       "      <td>2016-01-06 07:25:45</td>\n",
       "      <td>2020-06-24 23:01:10</td>\n",
       "      <td>12123183612</td>\n",
       "      <td>5</td>\n",
       "      <td>Amazing Smell</td>\n",
       "      <td>This smells SO good! It’s not too strong and n...</td>\n",
       "      <td>0.000000</td>\n",
       "      <td>2018-02-14 18:29:09</td>\n",
       "      <td>True</td>\n",
       "      <td>blue</td>\n",
       "      <td>blonde</td>\n",
       "      <td>fair</td>\n",
       "      <td>dry</td>\n",
       "    </tr>\n",
       "    <tr>\n",
       "      <th>275806</th>\n",
       "      <td>P429425</td>\n",
       "      <td>cover-fx</td>\n",
       "      <td>Power Play Foundation G+40</td>\n",
       "      <td>What it is: A cult-favorite liquid foundation ...</td>\n",
       "      <td>4.0964</td>\n",
       "      <td>59518.0</td>\n",
       "      <td>1546.0</td>\n",
       "      <td>44.0</td>\n",
       "      <td>Makeup</td>\n",
       "      <td>Face</td>\n",
       "      <td>Foundation</td>\n",
       "      <td>2018-03-04 18:29:34</td>\n",
       "      <td>2020-06-23 00:46:08</td>\n",
       "      <td>5402073862</td>\n",
       "      <td>3</td>\n",
       "      <td>No Title</td>\n",
       "      <td>Good transfer resistant, light to medium cover...</td>\n",
       "      <td>0.941176</td>\n",
       "      <td>2018-06-01 20:15:37</td>\n",
       "      <td>True</td>\n",
       "      <td>hazel</td>\n",
       "      <td>brunette</td>\n",
       "      <td>fair</td>\n",
       "      <td>combination</td>\n",
       "    </tr>\n",
       "    <tr>\n",
       "      <th>791761</th>\n",
       "      <td>P420951</td>\n",
       "      <td>marc-jacobs-beauty</td>\n",
       "      <td>Eye-Conic Multi-Finish Eyeshadow Palette</td>\n",
       "      <td>What it is: A long-wearing eyeshadow palette t...</td>\n",
       "      <td>4.6736</td>\n",
       "      <td>79337.0</td>\n",
       "      <td>2368.0</td>\n",
       "      <td>49.0</td>\n",
       "      <td>Makeup</td>\n",
       "      <td>Eye</td>\n",
       "      <td>Eye Palettes</td>\n",
       "      <td>2017-06-30 17:34:12</td>\n",
       "      <td>2020-06-29 23:17:19</td>\n",
       "      <td>5591292605</td>\n",
       "      <td>5</td>\n",
       "      <td>#TheEyeDresser</td>\n",
       "      <td>#TheEyeDresser \\nLoved these colors they are t...</td>\n",
       "      <td>0.000000</td>\n",
       "      <td>2017-08-27 03:34:45</td>\n",
       "      <td>True</td>\n",
       "      <td>NaN</td>\n",
       "      <td>NaN</td>\n",
       "      <td>NaN</td>\n",
       "      <td>NaN</td>\n",
       "    </tr>\n",
       "    <tr>\n",
       "      <th>1038573</th>\n",
       "      <td>P409800</td>\n",
       "      <td>sephora-collection</td>\n",
       "      <td>Cleansing &amp; Exfoliating Wipes</td>\n",
       "      <td>What it is: A collection of cleansing and exfo...</td>\n",
       "      <td>4.3998</td>\n",
       "      <td>248103.0</td>\n",
       "      <td>3508.0</td>\n",
       "      <td>8.0</td>\n",
       "      <td>Skincare</td>\n",
       "      <td>Cleansers</td>\n",
       "      <td>Face Wipes</td>\n",
       "      <td>2016-07-09 00:10:16</td>\n",
       "      <td>2020-07-07 15:25:28</td>\n",
       "      <td>5982255408</td>\n",
       "      <td>5</td>\n",
       "      <td>No Title</td>\n",
       "      <td>This is the BEST Sephora cleansing wipe.  It’s...</td>\n",
       "      <td>0.000000</td>\n",
       "      <td>2018-04-09 02:46:17</td>\n",
       "      <td>True</td>\n",
       "      <td>hazel</td>\n",
       "      <td>brunette</td>\n",
       "      <td>medium</td>\n",
       "      <td>combination</td>\n",
       "    </tr>\n",
       "    <tr>\n",
       "      <th>882738</th>\n",
       "      <td>P302923</td>\n",
       "      <td>nars</td>\n",
       "      <td>Pure Radiant Tinted Moisturizer Broad Spectrum...</td>\n",
       "      <td>What it is: A lightweight, natural-looking tin...</td>\n",
       "      <td>4.3840</td>\n",
       "      <td>123749.0</td>\n",
       "      <td>2940.0</td>\n",
       "      <td>45.0</td>\n",
       "      <td>Makeup</td>\n",
       "      <td>Face</td>\n",
       "      <td>Tinted Moisturizer</td>\n",
       "      <td>2012-02-29 18:18:07</td>\n",
       "      <td>2020-07-07 20:41:28</td>\n",
       "      <td>1133197798</td>\n",
       "      <td>5</td>\n",
       "      <td>Magical</td>\n",
       "      <td>It better be magic for this price and it is. G...</td>\n",
       "      <td>0.000000</td>\n",
       "      <td>2014-12-08 03:58:02</td>\n",
       "      <td>False</td>\n",
       "      <td>brown</td>\n",
       "      <td>NaN</td>\n",
       "      <td>olive</td>\n",
       "      <td>combination</td>\n",
       "    </tr>\n",
       "  </tbody>\n",
       "</table>\n",
       "</div>"
      ],
      "text/plain": [
       "           pd_id               brand  \\\n",
       "532103   P403497       juicy-couture   \n",
       "275806   P429425            cover-fx   \n",
       "791761   P420951  marc-jacobs-beauty   \n",
       "1038573  P409800  sephora-collection   \n",
       "882738   P302923                nars   \n",
       "\n",
       "                                                      Name  \\\n",
       "532103                                  Viva La Juicy Rosé   \n",
       "275806                          Power Play Foundation G+40   \n",
       "791761            Eye-Conic Multi-Finish Eyeshadow Palette   \n",
       "1038573                      Cleansing & Exfoliating Wipes   \n",
       "882738   Pure Radiant Tinted Moisturizer Broad Spectrum...   \n",
       "\n",
       "                                               Description  \\\n",
       "532103   Celebrate with Viva la Juicy Rosé, a light-hea...   \n",
       "275806   What it is: A cult-favorite liquid foundation ...   \n",
       "791761   What it is: A long-wearing eyeshadow palette t...   \n",
       "1038573  What it is: A collection of cleansing and exfo...   \n",
       "882738   What it is: A lightweight, natural-looking tin...   \n",
       "\n",
       "         AverageOverallRating  love_count  reviews_count  Price category_1  \\\n",
       "532103                 4.6984      6726.0           63.0   79.0  Fragrance   \n",
       "275806                 4.0964     59518.0         1546.0   44.0     Makeup   \n",
       "791761                 4.6736     79337.0         2368.0   49.0     Makeup   \n",
       "1038573                4.3998    248103.0         3508.0    8.0   Skincare   \n",
       "882738                 4.3840    123749.0         2940.0   45.0     Makeup   \n",
       "\n",
       "         category_2           category_3 FirstSubmissionTime  \\\n",
       "532103          NaN                  NaN 2016-01-06 07:25:45   \n",
       "275806         Face           Foundation 2018-03-04 18:29:34   \n",
       "791761          Eye         Eye Palettes 2017-06-30 17:34:12   \n",
       "1038573   Cleansers           Face Wipes 2016-07-09 00:10:16   \n",
       "882738         Face   Tinted Moisturizer 2012-02-29 18:18:07   \n",
       "\n",
       "         LastSubmissionTime     AuthorId  Rating           Title  \\\n",
       "532103  2020-06-24 23:01:10  12123183612       5   Amazing Smell   \n",
       "275806  2020-06-23 00:46:08   5402073862       3        No Title   \n",
       "791761  2020-06-29 23:17:19   5591292605       5  #TheEyeDresser   \n",
       "1038573 2020-07-07 15:25:28   5982255408       5        No Title   \n",
       "882738  2020-07-07 20:41:28   1133197798       5         Magical   \n",
       "\n",
       "                                                ReviewText  Helpfulness  \\\n",
       "532103   This smells SO good! It’s not too strong and n...     0.000000   \n",
       "275806   Good transfer resistant, light to medium cover...     0.941176   \n",
       "791761   #TheEyeDresser \\nLoved these colors they are t...     0.000000   \n",
       "1038573  This is the BEST Sephora cleansing wipe.  It’s...     0.000000   \n",
       "882738   It better be magic for this price and it is. G...     0.000000   \n",
       "\n",
       "             SubmissionTime  IsRecommended eyeColor hairColor skinTone  \\\n",
       "532103  2018-02-14 18:29:09           True     blue    blonde     fair   \n",
       "275806  2018-06-01 20:15:37           True    hazel  brunette     fair   \n",
       "791761  2017-08-27 03:34:45           True      NaN       NaN      NaN   \n",
       "1038573 2018-04-09 02:46:17           True    hazel  brunette   medium   \n",
       "882738  2014-12-08 03:58:02          False    brown       NaN    olive   \n",
       "\n",
       "            skinType  \n",
       "532103           dry  \n",
       "275806   combination  \n",
       "791761           NaN  \n",
       "1038573  combination  \n",
       "882738   combination  "
      ]
     },
     "execution_count": 2,
     "metadata": {},
     "output_type": "execute_result"
    }
   ],
   "source": [
    "pd.set_option('display.max_columns', None)\n",
    "df = pd.read_csv('../data/cleaned_review_data.csv', \n",
    "                 parse_dates=['SubmissionTime', 'FirstSubmissionTime', 'LastSubmissionTime'], \n",
    "                 low_memory=False)\n",
    "df.sample(5)"
   ]
  },
  {
   "cell_type": "code",
   "execution_count": 3,
   "metadata": {
    "ExecuteTime": {
     "end_time": "2020-07-23T20:25:25.336770Z",
     "start_time": "2020-07-23T20:25:24.562002Z"
    }
   },
   "outputs": [
    {
     "name": "stdout",
     "output_type": "stream",
     "text": [
      "<class 'pandas.core.frame.DataFrame'>\n",
      "RangeIndex: 1364686 entries, 0 to 1364685\n",
      "Data columns (total 24 columns):\n",
      " #   Column                Non-Null Count    Dtype         \n",
      "---  ------                --------------    -----         \n",
      " 0   pd_id                 1364686 non-null  object        \n",
      " 1   brand                 1364686 non-null  object        \n",
      " 2   Name                  1364686 non-null  object        \n",
      " 3   Description           1364686 non-null  object        \n",
      " 4   AverageOverallRating  1364686 non-null  float64       \n",
      " 5   love_count            1364686 non-null  float64       \n",
      " 6   reviews_count         1364686 non-null  float64       \n",
      " 7   Price                 1364686 non-null  float64       \n",
      " 8   category_1            1364686 non-null  object        \n",
      " 9   category_2            1006831 non-null  object        \n",
      " 10  category_3            957356 non-null   object        \n",
      " 11  FirstSubmissionTime   1364686 non-null  datetime64[ns]\n",
      " 12  LastSubmissionTime    1364686 non-null  datetime64[ns]\n",
      " 13  AuthorId              1364686 non-null  object        \n",
      " 14  Rating                1364686 non-null  int64         \n",
      " 15  Title                 1364686 non-null  object        \n",
      " 16  ReviewText            1364686 non-null  object        \n",
      " 17  Helpfulness           1364686 non-null  float64       \n",
      " 18  SubmissionTime        1364686 non-null  datetime64[ns]\n",
      " 19  IsRecommended         1364686 non-null  bool          \n",
      " 20  eyeColor              897237 non-null   object        \n",
      " 21  hairColor             665796 non-null   object        \n",
      " 22  skinTone              960812 non-null   object        \n",
      " 23  skinType              816669 non-null   object        \n",
      "dtypes: bool(1), datetime64[ns](3), float64(5), int64(1), object(14)\n",
      "memory usage: 240.8+ MB\n"
     ]
    }
   ],
   "source": [
    "df.info(null_counts=True)"
   ]
  },
  {
   "cell_type": "code",
   "execution_count": 4,
   "metadata": {
    "ExecuteTime": {
     "end_time": "2020-07-23T20:25:25.589648Z",
     "start_time": "2020-07-23T20:25:25.339193Z"
    }
   },
   "outputs": [
    {
     "name": "stdout",
     "output_type": "stream",
     "text": [
      "Number of Distinct Products 2301\n",
      "Number of Distinct Users 660434\n",
      "If all users have 1 review for each product, Total reviews: 1519658634\n",
      "Actually, the number of reviews: 1364686\n"
     ]
    }
   ],
   "source": [
    "n_pd = df['pd_id'].nunique()\n",
    "n_user = df['AuthorId'].nunique()\n",
    "print(f'Number of Distinct Products {n_pd}')\n",
    "print(f'Number of Distinct Users {n_user}')\n",
    "print(f'If all users have 1 review for each product, Total reviews: {n_pd*n_user}')\n",
    "print(f'Actually, the number of reviews: {len(df)}')"
   ]
  },
  {
   "cell_type": "markdown",
   "metadata": {},
   "source": [
    "# TFIDF for Product Description"
   ]
  },
  {
   "cell_type": "code",
   "execution_count": 5,
   "metadata": {
    "ExecuteTime": {
     "end_time": "2020-07-23T20:25:27.744063Z",
     "start_time": "2020-07-23T20:25:25.591821Z"
    }
   },
   "outputs": [
    {
     "name": "stderr",
     "output_type": "stream",
     "text": [
      "/Users/shirley/anaconda3/lib/python3.7/site-packages/sklearn/utils/deprecation.py:144: FutureWarning: The sklearn.feature_extraction.stop_words module is  deprecated in version 0.22 and will be removed in version 0.24. The corresponding classes / functions should instead be imported from sklearn.feature_extraction.text. Anything that cannot be imported from sklearn.feature_extraction.text is now part of the private API.\n",
      "  warnings.warn(message, FutureWarning)\n"
     ]
    }
   ],
   "source": [
    "import nltk\n",
    "from nltk.stem.porter import *\n",
    "from sklearn.feature_extraction import stop_words\n",
    "from collections import Counter\n",
    "import string\n",
    "from sklearn.feature_extraction.text import TfidfVectorizer\n",
    "import re"
   ]
  },
  {
   "cell_type": "code",
   "execution_count": 6,
   "metadata": {
    "ExecuteTime": {
     "end_time": "2020-07-23T20:25:27.755263Z",
     "start_time": "2020-07-23T20:25:27.746665Z"
    }
   },
   "outputs": [],
   "source": [
    "def tokenize(text):\n",
    "    \"\"\"\n",
    "    Tokenize text and return a non-unique list of tokenized words\n",
    "    found in the text. Normalize to lowercase, strip punctuation,\n",
    "    remove stop words, drop words of length < 3, strip digits.\n",
    "    \"\"\"\n",
    "    regex = re.compile('[' + re.escape(string.punctuation) + '0-9\\\\r\\\\t\\\\n]')\n",
    "    nopunct = regex.sub(\" \", text)  # delete stuff but leave at least a space to avoid clumping together\n",
    "    words = nltk.tokenize.word_tokenize(nopunct)\n",
    "    words = [w.lower() for w in words] # Normalize to lowercase\n",
    "    words = [w for w in words if len(w) > 2]  # drop words of length < 3\n",
    "    words = [w for w in words if w not in stop_words.ENGLISH_STOP_WORDS] # remove stop words\n",
    "\n",
    "    return words"
   ]
  },
  {
   "cell_type": "code",
   "execution_count": 7,
   "metadata": {
    "ExecuteTime": {
     "end_time": "2020-07-23T20:25:27.771342Z",
     "start_time": "2020-07-23T20:25:27.766835Z"
    }
   },
   "outputs": [],
   "source": [
    "def tokenizer(text):\n",
    "    \"\"\"\n",
    "    Given a list of tokens/words, return a new list with each word\n",
    "    stemmed using a PorterStemmer.\n",
    "    \"\"\"\n",
    "    stemmer = PorterStemmer()\n",
    "    stemmed = [stemmer.stem(w) for w in tokenize(text)]\n",
    "    return stemmed"
   ]
  },
  {
   "cell_type": "code",
   "execution_count": 8,
   "metadata": {
    "ExecuteTime": {
     "end_time": "2020-07-23T20:25:27.780151Z",
     "start_time": "2020-07-23T20:25:27.776285Z"
    }
   },
   "outputs": [],
   "source": [
    "def compute_tfidf(corpus):\n",
    "    \"\"\"\n",
    "    Create and return a TfidfVectorizer object after training it on\n",
    "    the list of articles pulled from the corpus dictionary. Meaning,\n",
    "    call fit() on the list of document strings, which figures out\n",
    "    all the inverse document frequencies (IDF) for use later by\n",
    "    the transform() function. The corpus argument is a dictionary\n",
    "    mapping file name to xml text.\n",
    "    \"\"\"\n",
    "\n",
    "    tfidf = TfidfVectorizer(input = 'content',\n",
    "                            analyzer = 'word',\n",
    "                            tokenizer = tokenizer,\n",
    "                            stop_words ='english',\n",
    "                            decode_error = 'ignore')\n",
    "    tfidf = tfidf.fit(corpus)\n",
    "    return tfidf"
   ]
  },
  {
   "cell_type": "code",
   "execution_count": 9,
   "metadata": {
    "ExecuteTime": {
     "end_time": "2020-07-23T20:25:27.791262Z",
     "start_time": "2020-07-23T20:25:27.783074Z"
    }
   },
   "outputs": [],
   "source": [
    "def summarize(tfidf, text, n):\n",
    "    \"\"\"\n",
    "    Given a trained TfidfVectorizer object and some XML text, return\n",
    "    up to n (word,score) pairs in a list. Discard any terms with\n",
    "    scores < 0.09.\n",
    "    \"\"\"\n",
    "    X = tfidf.transform([text])\n",
    "    names = tfidf.get_feature_names()\n",
    "    word_index = X.nonzero()[1]\n",
    "    scores = [(names[i],X[0,i]) for i in word_index if X[0,i] >= 0.09]\n",
    "    sorted_bags = sorted(scores, reverse = True, key=lambda x: x[1])\n",
    "\n",
    "    return sorted_bags[:n]"
   ]
  },
  {
   "cell_type": "code",
   "execution_count": 10,
   "metadata": {
    "ExecuteTime": {
     "end_time": "2020-07-23T20:25:35.729228Z",
     "start_time": "2020-07-23T20:25:27.794271Z"
    }
   },
   "outputs": [
    {
     "name": "stderr",
     "output_type": "stream",
     "text": [
      "/Users/shirley/anaconda3/lib/python3.7/site-packages/sklearn/feature_extraction/text.py:507: UserWarning: The parameter 'token_pattern' will not be used since 'tokenizer' is not None'\n",
      "  warnings.warn(\"The parameter 'token_pattern' will not be used\"\n"
     ]
    }
   ],
   "source": [
    "dscrp_df = df[['pd_id', 'Description']].drop_duplicates().reset_index(drop=True)\n",
    "trainning_corpus = dscrp_df['Description']\n",
    "trained = compute_tfidf(trainning_corpus)"
   ]
  },
  {
   "cell_type": "code",
   "execution_count": 11,
   "metadata": {
    "ExecuteTime": {
     "end_time": "2020-07-23T20:25:58.507810Z",
     "start_time": "2020-07-23T20:25:35.733272Z"
    }
   },
   "outputs": [
    {
     "data": {
      "text/html": [
       "<div>\n",
       "<style scoped>\n",
       "    .dataframe tbody tr th:only-of-type {\n",
       "        vertical-align: middle;\n",
       "    }\n",
       "\n",
       "    .dataframe tbody tr th {\n",
       "        vertical-align: top;\n",
       "    }\n",
       "\n",
       "    .dataframe thead th {\n",
       "        text-align: right;\n",
       "    }\n",
       "</style>\n",
       "<table border=\"1\" class=\"dataframe\">\n",
       "  <thead>\n",
       "    <tr style=\"text-align: right;\">\n",
       "      <th></th>\n",
       "      <th>pd_id</th>\n",
       "      <th>Description</th>\n",
       "      <th>kw_1</th>\n",
       "      <th>kw_2</th>\n",
       "      <th>kw_3</th>\n",
       "      <th>kw_4</th>\n",
       "      <th>kw_5</th>\n",
       "    </tr>\n",
       "  </thead>\n",
       "  <tbody>\n",
       "    <tr>\n",
       "      <th>0</th>\n",
       "      <td>P307801</td>\n",
       "      <td>Fragrance Family: Floral Scent Type: Fruity Fl...</td>\n",
       "      <td>breathtak</td>\n",
       "      <td>fig</td>\n",
       "      <td>cedarwood</td>\n",
       "      <td>figfragr</td>\n",
       "      <td>amalfi</td>\n",
       "    </tr>\n",
       "    <tr>\n",
       "      <th>1</th>\n",
       "      <td>P307804</td>\n",
       "      <td>Fragrance Family: Earthy &amp; Woody Scent Type: F...</td>\n",
       "      <td>junip</td>\n",
       "      <td>island</td>\n",
       "      <td>lemon</td>\n",
       "      <td>sicili</td>\n",
       "      <td>panarea</td>\n",
       "    </tr>\n",
       "    <tr>\n",
       "      <th>2</th>\n",
       "      <td>P460441</td>\n",
       "      <td>What it is:A shimmering oil that dresses the s...</td>\n",
       "      <td>tangerineabout</td>\n",
       "      <td>rosa</td>\n",
       "      <td>nobil</td>\n",
       "      <td>oil</td>\n",
       "      <td>centifolia</td>\n",
       "    </tr>\n",
       "    <tr>\n",
       "      <th>3</th>\n",
       "      <td>P444119</td>\n",
       "      <td>Fragrance Family: Floral Scent Type: Classic F...</td>\n",
       "      <td>peoni</td>\n",
       "      <td>note</td>\n",
       "      <td>raspberri</td>\n",
       "      <td>scent</td>\n",
       "      <td>peonia</td>\n",
       "    </tr>\n",
       "    <tr>\n",
       "      <th>4</th>\n",
       "      <td>P163604</td>\n",
       "      <td>Fragrance Family: Fresh Scent Type: Fresh Citr...</td>\n",
       "      <td>fresh</td>\n",
       "      <td>citru</td>\n",
       "      <td>fruit</td>\n",
       "      <td>verbena</td>\n",
       "      <td>bulgarian</td>\n",
       "    </tr>\n",
       "    <tr>\n",
       "      <th>...</th>\n",
       "      <td>...</td>\n",
       "      <td>...</td>\n",
       "      <td>...</td>\n",
       "      <td>...</td>\n",
       "      <td>...</td>\n",
       "      <td>...</td>\n",
       "      <td>...</td>\n",
       "    </tr>\n",
       "    <tr>\n",
       "      <th>2296</th>\n",
       "      <td>P428706</td>\n",
       "      <td>Fragrance Family: Fresh Scent Type: Fresh Flor...</td>\n",
       "      <td>perfum</td>\n",
       "      <td>neroli</td>\n",
       "      <td>blossom</td>\n",
       "      <td>orang</td>\n",
       "      <td>essenti</td>\n",
       "    </tr>\n",
       "    <tr>\n",
       "      <th>2297</th>\n",
       "      <td>P428702</td>\n",
       "      <td>Fragrance Family: FreshScent Type: Fresh Citru...</td>\n",
       "      <td>sweeti</td>\n",
       "      <td>israel</td>\n",
       "      <td>iran</td>\n",
       "      <td>grapefruit</td>\n",
       "      <td>region</td>\n",
       "    </tr>\n",
       "    <tr>\n",
       "      <th>2298</th>\n",
       "      <td>P428709</td>\n",
       "      <td>Fragrance Family: Fresh Scent Type: Fresh Flor...</td>\n",
       "      <td>patchouli</td>\n",
       "      <td>trade</td>\n",
       "      <td>fair</td>\n",
       "      <td>geranium</td>\n",
       "      <td>rose</td>\n",
       "    </tr>\n",
       "    <tr>\n",
       "      <th>2299</th>\n",
       "      <td>P452918</td>\n",
       "      <td>Beauty Benefit: Immunity Support, Gut Support,...</td>\n",
       "      <td>cup</td>\n",
       "      <td>gummi</td>\n",
       "      <td>green</td>\n",
       "      <td>dawn</td>\n",
       "      <td>vitamin</td>\n",
       "    </tr>\n",
       "    <tr>\n",
       "      <th>2300</th>\n",
       "      <td>P437988</td>\n",
       "      <td>Beauty Benefit: Skin HealthWhat it is: A delic...</td>\n",
       "      <td>tablet</td>\n",
       "      <td>green</td>\n",
       "      <td>real</td>\n",
       "      <td>tabletwhat</td>\n",
       "      <td>healthwhat</td>\n",
       "    </tr>\n",
       "  </tbody>\n",
       "</table>\n",
       "<p>2301 rows × 7 columns</p>\n",
       "</div>"
      ],
      "text/plain": [
       "        pd_id                                        Description  \\\n",
       "0     P307801  Fragrance Family: Floral Scent Type: Fruity Fl...   \n",
       "1     P307804  Fragrance Family: Earthy & Woody Scent Type: F...   \n",
       "2     P460441  What it is:A shimmering oil that dresses the s...   \n",
       "3     P444119  Fragrance Family: Floral Scent Type: Classic F...   \n",
       "4     P163604  Fragrance Family: Fresh Scent Type: Fresh Citr...   \n",
       "...       ...                                                ...   \n",
       "2296  P428706  Fragrance Family: Fresh Scent Type: Fresh Flor...   \n",
       "2297  P428702  Fragrance Family: FreshScent Type: Fresh Citru...   \n",
       "2298  P428709  Fragrance Family: Fresh Scent Type: Fresh Flor...   \n",
       "2299  P452918  Beauty Benefit: Immunity Support, Gut Support,...   \n",
       "2300  P437988  Beauty Benefit: Skin HealthWhat it is: A delic...   \n",
       "\n",
       "                kw_1    kw_2       kw_3        kw_4        kw_5  \n",
       "0          breathtak     fig  cedarwood    figfragr      amalfi  \n",
       "1              junip  island      lemon      sicili     panarea  \n",
       "2     tangerineabout    rosa      nobil         oil  centifolia  \n",
       "3              peoni    note  raspberri       scent      peonia  \n",
       "4              fresh   citru      fruit     verbena   bulgarian  \n",
       "...              ...     ...        ...         ...         ...  \n",
       "2296          perfum  neroli    blossom       orang     essenti  \n",
       "2297          sweeti  israel       iran  grapefruit      region  \n",
       "2298       patchouli   trade       fair    geranium        rose  \n",
       "2299             cup   gummi      green        dawn     vitamin  \n",
       "2300          tablet   green       real  tabletwhat  healthwhat  \n",
       "\n",
       "[2301 rows x 7 columns]"
      ]
     },
     "execution_count": 11,
     "metadata": {},
     "output_type": "execute_result"
    }
   ],
   "source": [
    "# Extract top 5 keywords for each product descriptions\n",
    "kw_list = []\n",
    "for i in range(len(dscrp_df)):\n",
    "    top_5_kw = summarize(tfidf=trained, text=dscrp_df['Description'][i], n=5)\n",
    "    top_5_kw_dict = {f'kw_{k+1}':kw[0] for k, kw in enumerate(top_5_kw)}\n",
    "    kw_list.append(top_5_kw_dict)\n",
    "kw_df = pd.DataFrame(kw_list)\n",
    "product_df = pd.concat([dscrp_df, kw_df], axis=1)\n",
    "product_df"
   ]
  },
  {
   "cell_type": "code",
   "execution_count": 12,
   "metadata": {
    "ExecuteTime": {
     "end_time": "2020-07-23T20:25:58.532962Z",
     "start_time": "2020-07-23T20:25:58.510268Z"
    }
   },
   "outputs": [
    {
     "name": "stdout",
     "output_type": "stream",
     "text": [
      "['lip', 'lash', 'pink', 'spray', 'sandalwood', 'clean', 'spf', 'lancer', 'skin', 'eye', 'tan', 'agre', 'floral', 'makeup', 'moistur', 'report', 'cleans', 'palett', 'mask', 'acid', 'candl', 'brighten', 'color', 'scalp', 'protect', 'blush', 'balm', 'matt', 'serum', 'pore', 'vitamin', 'note', 'mascara', 'wrinkl', 'blemish', 'hair', 'set', 'spot', 'oil', 'volum', 'underton', 'cbd', 'shampoo', 'brush', 'shine', 'rose', 'bodi', 'repair', 'coverag', 'brow', 'coconut', 'powder', 'said', 'mist', 'dark', 'polish', 'cleanser', 'look']\n"
     ]
    }
   ],
   "source": [
    "# In general the most common keywords for Sephora's products\n",
    "current_list = []\n",
    "for i in range(1,6): \n",
    "    new_list = list(product_df[f'kw_{i}'].value_counts()[:20].index)\n",
    "    current_list += new_list\n",
    "most_keyword = list(set(current_list))\n",
    "print(most_keyword)"
   ]
  },
  {
   "cell_type": "code",
   "execution_count": null,
   "metadata": {},
   "outputs": [],
   "source": []
  }
 ],
 "metadata": {
  "kernelspec": {
   "display_name": "Python 3",
   "language": "python",
   "name": "python3"
  },
  "language_info": {
   "codemirror_mode": {
    "name": "ipython",
    "version": 3
   },
   "file_extension": ".py",
   "mimetype": "text/x-python",
   "name": "python",
   "nbconvert_exporter": "python",
   "pygments_lexer": "ipython3",
   "version": "3.7.7"
  },
  "toc": {
   "base_numbering": 1,
   "nav_menu": {},
   "number_sections": true,
   "sideBar": true,
   "skip_h1_title": false,
   "title_cell": "Table of Contents",
   "title_sidebar": "Contents",
   "toc_cell": false,
   "toc_position": {},
   "toc_section_display": true,
   "toc_window_display": false
  }
 },
 "nbformat": 4,
 "nbformat_minor": 4
}
