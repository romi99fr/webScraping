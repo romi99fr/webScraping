{
 "cells": [
  {
   "cell_type": "code",
   "execution_count": 1,
   "metadata": {
    "ExecuteTime": {
     "end_time": "2020-07-13T00:21:07.924898Z",
     "start_time": "2020-07-13T00:21:06.746130Z"
    }
   },
   "outputs": [],
   "source": [
    "import pandas as pd"
   ]
  },
  {
   "cell_type": "code",
   "execution_count": 2,
   "metadata": {
    "ExecuteTime": {
     "end_time": "2020-07-13T00:21:08.876650Z",
     "start_time": "2020-07-13T00:21:08.819847Z"
    }
   },
   "outputs": [
    {
     "name": "stdout",
     "output_type": "stream",
     "text": [
      "<class 'pandas.core.frame.DataFrame'>\n",
      "RangeIndex: 2301 entries, 0 to 2300\n",
      "Data columns (total 23 columns):\n",
      " #   Column                Non-Null Count  Dtype         \n",
      "---  ------                --------------  -----         \n",
      " 0   brand                 2301 non-null   object        \n",
      " 1   pd_id                 2301 non-null   object        \n",
      " 2   Name                  2301 non-null   object        \n",
      " 3   Description           2301 non-null   object        \n",
      " 4   AverageOverallRating  2301 non-null   float64       \n",
      " 5   FirstSubmissionTime   2301 non-null   datetime64[ns]\n",
      " 6   LastSubmissionTime    2301 non-null   datetime64[ns]\n",
      " 7   Age_35to44            2301 non-null   float64       \n",
      " 8   Age_18to24            2301 non-null   float64       \n",
      " 9   Age_25to34            2301 non-null   float64       \n",
      " 10  Age_45to54            2301 non-null   float64       \n",
      " 11  Age_over54            2301 non-null   float64       \n",
      " 12  Age_13to17            2301 non-null   float64       \n",
      " 13  category              2301 non-null   object        \n",
      " 14  love_count            2301 non-null   float64       \n",
      " 15  reviews_count         2301 non-null   float64       \n",
      " 16  Price                 2301 non-null   float64       \n",
      " 17  category_1            2301 non-null   object        \n",
      " 18  category_2            1765 non-null   object        \n",
      " 19  category_3            1598 non-null   object        \n",
      " 20  size_oz               1378 non-null   float64       \n",
      " 21  size_mL               1034 non-null   float64       \n",
      " 22  size_g                254 non-null    float64       \n",
      "dtypes: datetime64[ns](2), float64(13), object(8)\n",
      "memory usage: 413.6+ KB\n"
     ]
    }
   ],
   "source": [
    "pd_data = pd.read_csv('cleaned_pd_data.csv', parse_dates=['FirstSubmissionTime', 'LastSubmissionTime'])\n",
    "pd_data.info()"
   ]
  },
  {
   "cell_type": "code",
   "execution_count": 3,
   "metadata": {
    "ExecuteTime": {
     "end_time": "2020-07-13T00:21:10.170721Z",
     "start_time": "2020-07-13T00:21:10.165440Z"
    }
   },
   "outputs": [],
   "source": [
    "pd_df = pd_data[['pd_id', 'brand', 'Name', 'Description', 'AverageOverallRating', \n",
    "                 'love_count', 'reviews_count', 'Price', \n",
    "                 'category_1', 'category_2', 'category_3', \n",
    "                 'FirstSubmissionTime', 'LastSubmissionTime']]"
   ]
  },
  {
   "cell_type": "code",
   "execution_count": 4,
   "metadata": {
    "ExecuteTime": {
     "end_time": "2020-07-13T00:21:19.391879Z",
     "start_time": "2020-07-13T00:21:11.606227Z"
    }
   },
   "outputs": [
    {
     "data": {
      "text/html": [
       "<div>\n",
       "<style scoped>\n",
       "    .dataframe tbody tr th:only-of-type {\n",
       "        vertical-align: middle;\n",
       "    }\n",
       "\n",
       "    .dataframe tbody tr th {\n",
       "        vertical-align: top;\n",
       "    }\n",
       "\n",
       "    .dataframe thead th {\n",
       "        text-align: right;\n",
       "    }\n",
       "</style>\n",
       "<table border=\"1\" class=\"dataframe\">\n",
       "  <thead>\n",
       "    <tr style=\"text-align: right;\">\n",
       "      <th></th>\n",
       "      <th>pd_id</th>\n",
       "      <th>AuthorId</th>\n",
       "      <th>Rating</th>\n",
       "      <th>Title</th>\n",
       "      <th>ReviewText</th>\n",
       "      <th>Helpfulness</th>\n",
       "      <th>SubmissionTime</th>\n",
       "      <th>IsRecommended</th>\n",
       "      <th>eyeColor</th>\n",
       "      <th>hairColor</th>\n",
       "      <th>skinTone</th>\n",
       "      <th>skinType</th>\n",
       "    </tr>\n",
       "  </thead>\n",
       "  <tbody>\n",
       "    <tr>\n",
       "      <th>1697388</th>\n",
       "      <td>P448102</td>\n",
       "      <td>7217523659</td>\n",
       "      <td>5</td>\n",
       "      <td>Best perfume ever</td>\n",
       "      <td>So captivating! This perfume is so amazing. It...</td>\n",
       "      <td>1.0</td>\n",
       "      <td>2020-02-13T15:20:53.000+00:00</td>\n",
       "      <td>True</td>\n",
       "      <td>brown</td>\n",
       "      <td>brunette</td>\n",
       "      <td>deep</td>\n",
       "      <td>oily</td>\n",
       "    </tr>\n",
       "    <tr>\n",
       "      <th>975590</th>\n",
       "      <td>P270706</td>\n",
       "      <td>1387463626</td>\n",
       "      <td>5</td>\n",
       "      <td>The real deal</td>\n",
       "      <td>Got samples twice! I was so excited. This bran...</td>\n",
       "      <td>0.0</td>\n",
       "      <td>2013-03-09T05:09:45.000+00:00</td>\n",
       "      <td>NaN</td>\n",
       "      <td>NaN</td>\n",
       "      <td>NaN</td>\n",
       "      <td>NaN</td>\n",
       "      <td>NaN</td>\n",
       "    </tr>\n",
       "    <tr>\n",
       "      <th>646944</th>\n",
       "      <td>P276800</td>\n",
       "      <td>1725484812</td>\n",
       "      <td>5</td>\n",
       "      <td>The best. Enough said.</td>\n",
       "      <td>The only disappointment is the low variety of ...</td>\n",
       "      <td>NaN</td>\n",
       "      <td>2016-06-08T04:28:50.000+00:00</td>\n",
       "      <td>NaN</td>\n",
       "      <td>NaN</td>\n",
       "      <td>NaN</td>\n",
       "      <td>NaN</td>\n",
       "      <td>NaN</td>\n",
       "    </tr>\n",
       "    <tr>\n",
       "      <th>277799</th>\n",
       "      <td>P302940</td>\n",
       "      <td>5506624694</td>\n",
       "      <td>3</td>\n",
       "      <td>Adequate, but nothing special</td>\n",
       "      <td>I like the warming sensation on my skin, but I...</td>\n",
       "      <td>1.0</td>\n",
       "      <td>2016-01-08T04:36:18.000+00:00</td>\n",
       "      <td>NaN</td>\n",
       "      <td>NaN</td>\n",
       "      <td>NaN</td>\n",
       "      <td>NaN</td>\n",
       "      <td>NaN</td>\n",
       "    </tr>\n",
       "    <tr>\n",
       "      <th>834861</th>\n",
       "      <td>P384954</td>\n",
       "      <td>6774680041</td>\n",
       "      <td>5</td>\n",
       "      <td>My favorite lipsticks!</td>\n",
       "      <td>I have Lolita, Lolita II, and Bow n Arrow. The...</td>\n",
       "      <td>NaN</td>\n",
       "      <td>2016-04-29T10:02:41.000+00:00</td>\n",
       "      <td>NaN</td>\n",
       "      <td>brown</td>\n",
       "      <td>NaN</td>\n",
       "      <td>light</td>\n",
       "      <td>NaN</td>\n",
       "    </tr>\n",
       "  </tbody>\n",
       "</table>\n",
       "</div>"
      ],
      "text/plain": [
       "           pd_id    AuthorId  Rating                          Title  \\\n",
       "1697388  P448102  7217523659       5              Best perfume ever   \n",
       "975590   P270706  1387463626       5                  The real deal   \n",
       "646944   P276800  1725484812       5         The best. Enough said.   \n",
       "277799   P302940  5506624694       3  Adequate, but nothing special   \n",
       "834861   P384954  6774680041       5         My favorite lipsticks!   \n",
       "\n",
       "                                                ReviewText  Helpfulness  \\\n",
       "1697388  So captivating! This perfume is so amazing. It...          1.0   \n",
       "975590   Got samples twice! I was so excited. This bran...          0.0   \n",
       "646944   The only disappointment is the low variety of ...          NaN   \n",
       "277799   I like the warming sensation on my skin, but I...          1.0   \n",
       "834861   I have Lolita, Lolita II, and Bow n Arrow. The...          NaN   \n",
       "\n",
       "                        SubmissionTime IsRecommended eyeColor hairColor  \\\n",
       "1697388  2020-02-13T15:20:53.000+00:00          True    brown  brunette   \n",
       "975590   2013-03-09T05:09:45.000+00:00           NaN      NaN       NaN   \n",
       "646944   2016-06-08T04:28:50.000+00:00           NaN      NaN       NaN   \n",
       "277799   2016-01-08T04:36:18.000+00:00           NaN      NaN       NaN   \n",
       "834861   2016-04-29T10:02:41.000+00:00           NaN    brown       NaN   \n",
       "\n",
       "        skinTone skinType  \n",
       "1697388     deep     oily  \n",
       "975590       NaN      NaN  \n",
       "646944       NaN      NaN  \n",
       "277799       NaN      NaN  \n",
       "834861     light      NaN  "
      ]
     },
     "execution_count": 4,
     "metadata": {},
     "output_type": "execute_result"
    }
   ],
   "source": [
    "review_data = pd.read_csv('../codes/data/review_data.csv')\n",
    "review_data.sample(5)"
   ]
  },
  {
   "cell_type": "code",
   "execution_count": 5,
   "metadata": {
    "ExecuteTime": {
     "end_time": "2020-07-13T00:21:20.098387Z",
     "start_time": "2020-07-13T00:21:19.394404Z"
    }
   },
   "outputs": [
    {
     "name": "stdout",
     "output_type": "stream",
     "text": [
      "<class 'pandas.core.frame.DataFrame'>\n",
      "RangeIndex: 1707681 entries, 0 to 1707680\n",
      "Data columns (total 12 columns):\n",
      " #   Column          Non-Null Count    Dtype  \n",
      "---  ------          --------------    -----  \n",
      " 0   pd_id           1707681 non-null  object \n",
      " 1   AuthorId        1707681 non-null  object \n",
      " 2   Rating          1707681 non-null  int64  \n",
      " 3   Title           1308947 non-null  object \n",
      " 4   ReviewText      1703884 non-null  object \n",
      " 5   Helpfulness     617569 non-null   float64\n",
      " 6   SubmissionTime  1707681 non-null  object \n",
      " 7   IsRecommended   901976 non-null   object \n",
      " 8   eyeColor        1136860 non-null  object \n",
      " 9   hairColor       871463 non-null   object \n",
      " 10  skinTone        1210807 non-null  object \n",
      " 11  skinType        1047584 non-null  object \n",
      "dtypes: float64(1), int64(1), object(10)\n",
      "memory usage: 156.3+ MB\n"
     ]
    }
   ],
   "source": [
    "review_data.info(null_counts=True)"
   ]
  },
  {
   "cell_type": "code",
   "execution_count": 6,
   "metadata": {
    "ExecuteTime": {
     "end_time": "2020-07-13T00:21:26.822578Z",
     "start_time": "2020-07-13T00:21:20.101954Z"
    }
   },
   "outputs": [
    {
     "name": "stdout",
     "output_type": "stream",
     "text": [
      "<class 'pandas.core.frame.DataFrame'>\n",
      "Int64Index: 1703884 entries, 0 to 1707680\n",
      "Data columns (total 12 columns):\n",
      " #   Column          Non-Null Count    Dtype         \n",
      "---  ------          --------------    -----         \n",
      " 0   pd_id           1703884 non-null  object        \n",
      " 1   AuthorId        1703884 non-null  object        \n",
      " 2   Rating          1703884 non-null  int64         \n",
      " 3   Title           1703884 non-null  object        \n",
      " 4   ReviewText      1703884 non-null  object        \n",
      " 5   Helpfulness     1703884 non-null  float64       \n",
      " 6   SubmissionTime  1703884 non-null  datetime64[ns]\n",
      " 7   IsRecommended   1703884 non-null  object        \n",
      " 8   eyeColor        1133246 non-null  object        \n",
      " 9   hairColor       867803 non-null   object        \n",
      " 10  skinTone        1207121 non-null  object        \n",
      " 11  skinType        1043915 non-null  object        \n",
      "dtypes: datetime64[ns](1), float64(1), int64(1), object(9)\n",
      "memory usage: 169.0+ MB\n"
     ]
    }
   ],
   "source": [
    "remove_na = review_data.loc[~review_data['ReviewText'].isna()].copy()\n",
    "remove_na['Helpfulness'] = remove_na['Helpfulness'].fillna(0)\n",
    "remove_na['IsRecommended'] = remove_na['IsRecommended'].fillna('False')\n",
    "remove_na['Title'] = remove_na['Title'].fillna('No Title')\n",
    "remove_na['SubmissionTime'] = pd.to_datetime(remove_na['SubmissionTime'], \n",
    "                                             format='%Y-%m-%dT%H:%M:%S.000+00:00')\n",
    "remove_na.info(null_counts=True)"
   ]
  },
  {
   "cell_type": "code",
   "execution_count": 7,
   "metadata": {
    "ExecuteTime": {
     "end_time": "2020-07-13T00:21:29.488536Z",
     "start_time": "2020-07-13T00:21:26.824894Z"
    }
   },
   "outputs": [
    {
     "name": "stdout",
     "output_type": "stream",
     "text": [
      "<class 'pandas.core.frame.DataFrame'>\n",
      "Int64Index: 1364686 entries, 0 to 1364685\n",
      "Data columns (total 24 columns):\n",
      " #   Column                Non-Null Count    Dtype         \n",
      "---  ------                --------------    -----         \n",
      " 0   pd_id                 1364686 non-null  object        \n",
      " 1   brand                 1364686 non-null  object        \n",
      " 2   Name                  1364686 non-null  object        \n",
      " 3   Description           1364686 non-null  object        \n",
      " 4   AverageOverallRating  1364686 non-null  float64       \n",
      " 5   love_count            1364686 non-null  float64       \n",
      " 6   reviews_count         1364686 non-null  float64       \n",
      " 7   Price                 1364686 non-null  float64       \n",
      " 8   category_1            1364686 non-null  object        \n",
      " 9   category_2            1006831 non-null  object        \n",
      " 10  category_3            957356 non-null   object        \n",
      " 11  FirstSubmissionTime   1364686 non-null  datetime64[ns]\n",
      " 12  LastSubmissionTime    1364686 non-null  datetime64[ns]\n",
      " 13  AuthorId              1364686 non-null  object        \n",
      " 14  Rating                1364686 non-null  int64         \n",
      " 15  Title                 1364686 non-null  object        \n",
      " 16  ReviewText            1364686 non-null  object        \n",
      " 17  Helpfulness           1364686 non-null  float64       \n",
      " 18  SubmissionTime        1364686 non-null  datetime64[ns]\n",
      " 19  IsRecommended         1364686 non-null  object        \n",
      " 20  eyeColor              897237 non-null   object        \n",
      " 21  hairColor             665796 non-null   object        \n",
      " 22  skinTone              960812 non-null   object        \n",
      " 23  skinType              816669 non-null   object        \n",
      "dtypes: datetime64[ns](3), float64(5), int64(1), object(15)\n",
      "memory usage: 260.3+ MB\n"
     ]
    }
   ],
   "source": [
    "clean_review_data = pd.merge(pd_df, remove_na, on='pd_id')\n",
    "clean_review_data.info(null_counts=True)"
   ]
  },
  {
   "cell_type": "code",
   "execution_count": 8,
   "metadata": {
    "ExecuteTime": {
     "end_time": "2020-07-13T00:25:29.422336Z",
     "start_time": "2020-07-13T00:24:26.790218Z"
    }
   },
   "outputs": [],
   "source": [
    "clean_review_data.to_csv('cleaned_review_data.csv', index=False)"
   ]
  },
  {
   "cell_type": "code",
   "execution_count": null,
   "metadata": {},
   "outputs": [],
   "source": []
  }
 ],
 "metadata": {
  "kernelspec": {
   "display_name": "Python 3",
   "language": "python",
   "name": "python3"
  },
  "language_info": {
   "codemirror_mode": {
    "name": "ipython",
    "version": 3
   },
   "file_extension": ".py",
   "mimetype": "text/x-python",
   "name": "python",
   "nbconvert_exporter": "python",
   "pygments_lexer": "ipython3",
   "version": "3.7.7"
  },
  "toc": {
   "base_numbering": 1,
   "nav_menu": {},
   "number_sections": true,
   "sideBar": true,
   "skip_h1_title": false,
   "title_cell": "Table of Contents",
   "title_sidebar": "Contents",
   "toc_cell": false,
   "toc_position": {},
   "toc_section_display": true,
   "toc_window_display": false
  }
 },
 "nbformat": 4,
 "nbformat_minor": 4
}
